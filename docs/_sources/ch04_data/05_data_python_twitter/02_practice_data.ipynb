{
 "cells": [
  {
   "cell_type": "markdown",
   "id": "84fb2ae3-2d70-4f95-a667-ad3bf03fdddf",
   "metadata": {},
   "source": [
    "# Practice: Python Basic Data Types"
   ]
  },
  {
   "cell_type": "code",
   "execution_count": null,
   "id": "d4b64506-ece7-4ada-b432-2e6d061363e2",
   "metadata": {},
   "outputs": [],
   "source": []
 },
 {
  "cell_type": "markdown",
  "id": "48c1f048-04d7-4e52-ab6b-70ed56c26b0f",
  "metadata": {
   "tags": []
  },
  "source": [
   "### String Manipulation"
  ]
 },
 {
  "cell_type": "markdown",
  "id": "8e7b5d78-acae-45af-8c6e-3a77e7a97f2e",
  "metadata": {},
  "source": [
   "*Some notes: A string is a list of characters in order. An empty string is a string that has 0 characters. Python recognize as strings everything inside quotation marks\n",
   "(” ” or ‘ ‘)."
  ]
 },
 {
  "cell_type": "markdown",
  "id": "810b4195-bb2f-4c13-b1df-dcb07d7be89e",
  "metadata": {},
  "source": [
   "### String Review!"
  ]
 },
 {
  "cell_type": "markdown",
  "id": "49f5188f-8aec-4726-834f-0fe874601369",
  "metadata": {},
  "source": [
   "12. Create a variable that stores the string \"Hello World\". Return only the second word using indexing."
  ]
 },
 {
  "cell_type": "code",
  "execution_count": null,
  "id": "b0487b50-b16f-40df-ac5b-2e14490bb1ca",
  "metadata": {},
  "outputs": [],
  "source": []
 },
 {
  "cell_type": "markdown",
  "id": "05a69a1c-1b2e-4e60-a625-6c089b99ed53",
  "metadata": {},
  "source": [
   "13. Using the variable you made in question #12, store the first letters of both words in a new variable called `first_characters`."
  ]
 },
 {
  "cell_type": "code",
  "execution_count": null,
  "id": "6b5ba2a9-ac0f-4476-a0a8-d87c6163b5af",
  "metadata": {},
  "outputs": [],
  "source": []
 },
 {
  "cell_type": "markdown",
  "id": "deea9921-b290-4d09-b963-b46ae25a1a68",
  "metadata": {},
  "source": [
   "14. Return the length of the variable you made in question #12."
  ]
 },
 {
  "cell_type": "code",
  "execution_count": null,
  "id": "c3fdf0b0-5401-44ed-be88-c527f3893789",
  "metadata": {},
  "outputs": [],
  "source": []
 },
 {
  "cell_type": "markdown",
  "id": "9fc0d784-c21f-40e2-bd51-806936be32be",
  "metadata": {},
  "source": [
   "### count()"
  ]
 },
 {
  "cell_type": "markdown",
  "id": "d59876e9-2ac0-4a8c-a274-5a9114175b48",
  "metadata": {},
  "source": [
   "The `count()` function returns the number of times a specified character is in a string."
  ]
 },
 {
  "cell_type": "code",
  "execution_count": null,
  "id": "1c1d5944-2924-4808-a8e5-59d8e0bd30b2",
  "metadata": {},
  "outputs": [],
  "source": [
   "# try out the following example:\n",
   "\n",
   "weather = \"Seattle has a slight drizzle\"\n",
   "weather.count('t')"
  ]
 },
 {
  "cell_type": "markdown",
  "id": "7c8d5a01-8153-4f31-a0d4-f6584140567b",
  "metadata": {},
  "source": [
   "15. Return the number of times the character 'l' is in \"Hello World\" using `count()`"
  ]
 },
 {
  "cell_type": "code",
  "execution_count": null,
  "id": "3641fa02-a33a-45a5-9ad4-3925cbc2fa8c",
  "metadata": {},
  "outputs": [],
  "source": []
 },
 {
  "cell_type": "markdown",
  "id": "805a75c6-d293-48db-9dd8-fe4da41a1fd1",
  "metadata": {},
  "source": [
   "### index()"
  ]
 },
 {
  "cell_type": "markdown",
  "id": "a8902561-fb26-4187-a8f7-350dbb55a8f0",
  "metadata": {},
  "source": [
   "The `index()` function finds the first occurrence of the specified value. It raises an exception if the value is not found."
  ]
 },
 {
  "cell_type": "code",
  "execution_count": null,
  "id": "8aab951a-ea12-4604-a037-f1f915142fd9",
  "metadata": {},
  "outputs": [],
  "source": [
   "# try out the following example:\n",
   "\n",
   "weather.index('t')"
  ]
 },
 {
  "cell_type": "code",
  "execution_count": null,
  "id": "74468482-d188-4d5a-9c52-3def63c6588e",
  "metadata": {
   "tags": []
  },
  "outputs": [],
  "source": [
   "# try out the following example:\n",
   "\n",
   "weather.index('drizzle')"
  ]
 },
 {
  "cell_type": "code",
  "execution_count": null,
  "id": "a8b1a27b-e048-46f6-a2ad-78df9568a3b6",
  "metadata": {},
  "outputs": [],
  "source": [
   "# try out the following example:\n",
   "\n",
   "weather.index('p')      # it should return an error!"
  ]
 },
 {
  "cell_type": "markdown",
  "id": "b930523a-3d2c-4bda-918d-ff9dcfe37bcd",
  "metadata": {},
  "source": [
   "16. Return the index of the word, \"World\" in \"Hello World\"."
  ]
 },
 {
  "cell_type": "code",
  "execution_count": null,
  "id": "ae073adc-ec13-4963-9c7d-3717222cf3d7",
  "metadata": {},
  "outputs": [],
  "source": []
 },
 {
  "cell_type": "markdown",
  "id": "ab1ba753-7e80-4151-9287-ea8bc9bf542e",
  "metadata": {},
  "source": [
   "### upper() & lower()"
  ]
 },
 {
  "cell_type": "markdown",
  "id": "89d26dda-0a86-4903-81aa-4722a0f31ccb",
  "metadata": {},
  "source": [
   "These functions change upper and lower case strings"
  ]
 },
 {
  "cell_type": "code",
  "execution_count": null,
  "id": "4ab67ac8-1192-45f0-814d-0069ccc6bcd4",
  "metadata": {},
  "outputs": [],
  "source": [
   "# Try out the following example:\n",
   "\n",
   "weather = weather.upper()\n",
   "weather"
  ]
 },
 {
  "cell_type": "code",
  "execution_count": null,
  "id": "ed369359-c9d0-486b-8302-786116474d98",
  "metadata": {},
  "outputs": [],
  "source": [
   "# Try out the following example:\n",
   "\n",
   "weather = weather.lower()\n",
   "weather"
  ]
 },
 {
  "cell_type": "markdown",
  "id": "e8f043ad-12f4-48bb-9e11-2301ed0b6bfb",
  "metadata": {
   "tags": []
  },
  "source": [
   "17. Change your \"Hello World\" string to all upper case letters."
  ]
 },
 {
  "cell_type": "code",
  "execution_count": null,
  "id": "65884b87-c007-4333-932d-2ea7b63fa1b8",
  "metadata": {},
  "outputs": [],
  "source": []
 },
 {
  "cell_type": "markdown",
  "id": "b5c06476-1881-4ac0-9c45-23b75e0db5a8",
  "metadata": {},
  "source": [
   "### quotes"
  ]
 },
 {
  "cell_type": "markdown",
  "id": "7da60114-6574-4325-99b9-644ff4ecb62a",
  "metadata": {},
  "source": [
   "What if you want to include the quote character \" inside of a string? You can put a backslash character followed by a quote (\\\" or \\'). This is called an escape sequence. Python will remove the backslash, and put just the quote in the string.\n",
   "\n",
   "It looks like this:\n",
   "\n",
   "```\n",
   "print('Bob\\'s favorite language is Python')\n",
   "```"
  ]
 },
 {
  "cell_type": "code",
  "execution_count": null,
  "id": "55fa4e48-85f0-42a3-9a40-1e6a534e8f94",
  "metadata": {},
  "outputs": [],
  "source": [
   "# try it out:\n",
   "\n",
   "print('Bob\\'s favorite language is Python')"
  ]
 },
 {
  "cell_type": "code",
  "execution_count": null,
  "id": "8a0c6ca5-86d5-4ba7-8005-ae90108cebdb",
  "metadata": {},
  "outputs": [],
  "source": [
   "# again with double quotes:\n",
   "\n",
   "print(\"Bob once said, \\\"Coding is so fun!\\\"\")"
  ]
 },
 {
  "cell_type": "markdown",
  "id": "4d433b44-a9ba-4072-bcf6-69722fb91902",
  "metadata": {},
  "source": [
   "18. Print your own sentence with quotes!"
  ]
 },
 {
  "cell_type": "code",
  "execution_count": null,
  "id": "92e002eb-e289-4bd5-8b24-9d02d11fafe6",
  "metadata": {},
  "outputs": [],
  "source": []
 },
 {
  "cell_type": "markdown",
  "id": "744db08f-1ec5-4fda-b479-b2f30a1e0bcf",
  "metadata": {},
  "source": [
   "### the 'in' operator"
  ]
 },
 {
  "cell_type": "markdown",
  "id": "90d9545d-0574-4758-9d05-e313e6140bc9",
  "metadata": {},
  "source": [
   "The 'in' operator is the best way to check if a python string contains a substring.\n",
   "\n",
   "Here's what it looks like:\n",
   "\n",
   "```\n",
   "\n",
   "if \"Seattle\" in \"Seattle has a slight drizzle\":\n",
   "    print(\"Exists\")\n",
   "```"
  ]
 },
 {
  "cell_type": "code",
  "execution_count": null,
  "id": "e3954895-bc12-4907-a5d7-caa7d2916661",
  "metadata": {},
  "outputs": [],
  "source": [
   "# try it out:\n",
   "\n",
   "if \"Seattle\" in \"Seattle has a slight drizzle\":\n",
   "    print(\"Exists\")"
  ]
 },
 {
  "cell_type": "code",
  "execution_count": null,
  "id": "92f058b6-d536-4e4b-ab00-3a439d9e8de5",
  "metadata": {},
  "outputs": [],
  "source": [
   "# similar example:\n",
   "\n",
   "if \"Seattle\" in \"San Francisco has a slight drizzle\":\n",
   "    print(\"Exists\")\n",
   "else:\n",
   "    print(\"Does not exist\")"
  ]
 },
 {
  "cell_type": "code",
  "execution_count": null,
  "id": "e1a43374-ec75-45f1-9e42-707578494bc3",
  "metadata": {},
  "outputs": [],
  "source": [
   "# you can also use variables:\n",
   "\n",
   "if \"seattle\" in weather:\n",
   "    print(\"Exists\")"
  ]
 },
 {
  "cell_type": "markdown",
  "id": "b6ac3cce-d46b-4f70-8874-ed0c48a5826f",
  "metadata": {},
  "source": [
   "19. Find out if \"hey\" is in \"Hello World\" using the 'in' operator."
  ]
 },
 {
  "cell_type": "code",
  "execution_count": null,
  "id": "0ec5a545-2922-437a-8fa7-f4a6fec09c7a",
  "metadata": {},
  "outputs": [],
  "source": []
 },
 {
  "cell_type": "markdown",
  "id": "7e76ec43-5feb-409c-aac6-324f5843ea21",
  "metadata": {},
  "source": [
   "### split() function"
  ]
 },
 {
  "cell_type": "markdown",
  "id": "21d30f35-a61b-4b24-bb60-3e2db7301296",
  "metadata": {},
  "source": [
   "The `split()` function splits a string into a list."
  ]
 },
 {
  "cell_type": "code",
  "execution_count": null,
  "id": "73abfb42-b269-4dd2-a564-013d2bd95cc1",
  "metadata": {},
  "outputs": [],
  "source": [
   "# try out the following example:\n",
   "\n",
   "hello_example = \"Hello world! Who's ready to code?\"\n",
   "\n",
   "hello_example = hello_example.split()\n",
   "\n",
   "print(hello_example)"
  ]
 },
 {
  "cell_type": "code",
  "execution_count": null,
  "id": "821b06d5-328a-4fa1-80e5-2663c780fe02",
  "metadata": {},
  "outputs": [],
  "source": [
   "# try out this example:\n",
   "\n",
   "weather_example = \"it was a gloomy, rainy, brisk Wednesday morning.\"\n",
   "\n",
   "weather_example = weather_example.split(\", \")\n",
   "\n",
   "print(weather_example)"
  ]
 },
 {
  "cell_type": "markdown",
  "id": "cc46d606-6dc9-4f20-b5ac-f2d65ebe0953",
  "metadata": {},
  "source": [
   "20. Split a sentence of your choice based on spaces:"
  ]
 },
 {
  "cell_type": "code",
  "execution_count": null,
  "id": "6e12fe0f-1cd6-4662-a3be-6d309cd285b7",
  "metadata": {},
  "outputs": [],
  "source": []
 },
 {
  "cell_type": "markdown",
  "id": "25834af5-ec34-42a2-877a-687ca777e7a9",
  "metadata": {},
  "source": [
   "21. Split your UW email based on the \"@\" symbol:"
  ]
 },
 {
  "cell_type": "code",
  "execution_count": null,
  "id": "a9de36de-74f8-4db5-b06c-be72a7ba8f37",
  "metadata": {},
  "outputs": [],
  "source": []
 }
 ],
 "metadata": {
  "kernelspec": {
   "display_name": "Python 3 (ipykernel)",
   "language": "python",
   "name": "python3"
  },
  "language_info": {
   "codemirror_mode": {
    "name": "ipython",
    "version": 3
   },
   "file_extension": ".py",
   "mimetype": "text/x-python",
   "name": "python",
   "nbconvert_exporter": "python",
   "pygments_lexer": "ipython3",
   "version": "3.10.4"
  }
 },
 "nbformat": 4,
 "nbformat_minor": 5
}

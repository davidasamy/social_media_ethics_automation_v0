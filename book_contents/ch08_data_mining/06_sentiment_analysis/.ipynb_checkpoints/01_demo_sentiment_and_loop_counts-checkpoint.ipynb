{
 "cells": [
  {
   "cell_type": "markdown",
   "id": "0e560754-f971-4df9-b443-e7e4de6ccba4",
   "metadata": {},
   "source": [
    "# Demo: Sentiment Analysis and Loop Counts"
   ]
  }
 ],
 "metadata": {
  "kernelspec": {
   "display_name": "Python 3 (ipykernel)",
   "language": "python",
   "name": "python3"
  },
  "language_info": {
   "codemirror_mode": {
    "name": "ipython",
    "version": 3
   },
   "file_extension": ".py",
   "mimetype": "text/x-python",
   "name": "python",
   "nbconvert_exporter": "python",
   "pygments_lexer": "ipython3",
   "version": "3.10.4"
  }
 },
 "nbformat": 4,
 "nbformat_minor": 5
}

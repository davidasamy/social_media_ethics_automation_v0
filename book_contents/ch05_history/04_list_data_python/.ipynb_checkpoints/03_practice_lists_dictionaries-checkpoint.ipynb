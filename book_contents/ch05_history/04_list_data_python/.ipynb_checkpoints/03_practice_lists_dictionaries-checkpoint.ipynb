{
 "cells": [
  {
   "cell_type": "markdown",
   "id": "d6103326-2c1e-4e0c-9cbc-62b9c3dceb2d",
   "metadata": {},
   "source": [
    "# Practice: Looping through lists and dictionaries\n",
    "### Looping through lists"
   ]
  },
  {
   "cell_type": "markdown",
   "id": "cc675390-1381-4068-b26f-457c09d07f7a",
   "metadata": {},
   "source": [
    "11. Create a loop. Loop through the list `test_list`. Display the first 5 tweets in the list."
   ]
  },
  {
   "cell_type": "code",
   "execution_count": 1,
   "id": "241beed4-97ff-4da2-9d94-18accd4e176a",
   "metadata": {},
   "outputs": [
    {
     "name": "stdout",
     "output_type": "stream",
     "text": [
      "KYLE IS AWESOME!\n",
      "EMILY IS AWESOME!\n",
      "ANOTHER PERSON IS AWESOME!\n"
     ]
    }
   ],
   "source": [
    "for text in [\"Kyle\", \"Emily\", \"Another Person\"]:\n",
    "    sentence = text + \" is awesome!\"\n",
    "    upper_sentence = sentence.upper()\n",
    "    print(upper_sentence)"
   ]
  }
 ],
 "metadata": {
  "kernelspec": {
   "display_name": "Python 3 (ipykernel)",
   "language": "python",
   "name": "python3"
  },
  "language_info": {
   "codemirror_mode": {
    "name": "ipython",
    "version": 3
   },
   "file_extension": ".py",
   "mimetype": "text/x-python",
   "name": "python",
   "nbconvert_exporter": "python",
   "pygments_lexer": "ipython3",
   "version": "3.10.4"
  }
 },
 "nbformat": 4,
 "nbformat_minor": 5
}

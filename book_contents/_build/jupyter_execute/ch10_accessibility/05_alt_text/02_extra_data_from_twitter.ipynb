{
 "cells": [
  {
   "cell_type": "markdown",
   "id": "574eeeee-eb48-4af0-9815-6b10faa827a9",
   "metadata": {},
   "source": [
    "# Demo: Extra Data From Twitter\n",
    "\n",
    "In order to get alt-text data from images in Tweets, we're going to have to look at how to get extra data from Twitter.\n",
    "\n",
    "_Note: You don't really need to undestand this whole process, you can just take the final code pieces and copy/paste them to use them yourself. We are including this explanation in case you want to know how it is working._\n",
    "\n",
    "The examples here are based on examples from [this website](https://dev.to/twitterdev/a-comprehensive-guide-for-using-the-twitter-api-v2-using-tweepy-in-python-15d9)\n",
    "\n",
    "But first let's do our normal tweepy set-up"
   ]
  },
  {
   "cell_type": "markdown",
   "id": "531731d4-1e44-4348-aade-d096aac4d0e1",
   "metadata": {},
   "source": [
    "## Normal Tweepy Set-Up"
   ]
  },
  {
   "cell_type": "code",
   "execution_count": 1,
   "id": "9f4e03b6-67ee-4dc8-9b3a-15e7ba244759",
   "metadata": {
    "tags": []
   },
   "outputs": [],
   "source": [
    "import tweepy"
   ]
  },
  {
   "cell_type": "markdown",
   "id": "20cc9403-ece9-4c2f-af5f-a3d340a63af7",
   "metadata": {},
   "source": [
    "(optional) use the fake version of tweepy, so you don’t have to use real twitter developer access passwords"
   ]
  },
  {
   "cell_type": "code",
   "execution_count": null,
   "id": "ba325538-2d95-4cfa-a636-c114b8a07998",
   "metadata": {},
   "outputs": [],
   "source": []
  },
  {
   "cell_type": "code",
   "execution_count": 2,
   "id": "3752869c-95bc-4965-a4f8-db380c867419",
   "metadata": {},
   "outputs": [],
   "source": [
    "# Load all your developer access passwords into Python\n",
    "# TODO: Put your twitter account's special developer access passwords below:\n",
    "bearer_token = \"n4tossfgsafs_fake_bearer_token_isa53#$%$\"\n",
    "consumer_key = \"sa@#4@fdfdsa_fake_consumer_key_$%DSG#%DG\"\n",
    "consumer_secret = \"45adf$T$A_fake_consumer_secret_JESdsg\"\n",
    "access_token = \"56sd5Ss4tsea_fake_access_token_%YE%hDsdr\"\n",
    "access_token_secret = \"j^$dr_fake_consumer_key_^A5s#DR5s\""
   ]
  },
  {
   "cell_type": "code",
   "execution_count": 3,
   "id": "b0935b9f-a97f-4175-a940-dd54709ed641",
   "metadata": {},
   "outputs": [],
   "source": [
    "# Give the tweepy code your developer access passwords so\n",
    "# it can perform twitter actions\n",
    "client = tweepy.Client(\n",
    "   bearer_token=bearer_token,\n",
    "   consumer_key=consumer_key, consumer_secret=consumer_secret,\n",
    "   access_token=access_token, access_token_secret=access_token_secret\n",
    ")"
   ]
  },
  {
   "cell_type": "markdown",
   "id": "e4da52a3-e48b-49ca-8814-4dc523c8047c",
   "metadata": {},
   "source": [
    "## Get media (including image) data\n",
    "\n",
    "If we want to get media (including image) data from tweets, when we are using search_recent_tweets, then we have to include:\n",
    "- `expansions='attachments.media_keys'` which tells Tweepy to get the media information for the tweet\n",
    "- `media_fields=['preview_image_url', 'height', 'width']` which tells Tweepy which information to get for each piece of media.\n",
    "\n",
    "Let's do a search for tweets that include the word dog, and have an image, and are not retweets (so we don't just get the same tweet for all the times it was retweeted):"
   ]
  },
  {
   "cell_type": "code",
   "execution_count": 4,
   "id": "dda787a9-361c-4b8d-ac73-c0ef34221019",
   "metadata": {},
   "outputs": [
    {
     "ename": "TwitterServerError",
     "evalue": "500 Internal Server Error",
     "output_type": "error",
     "traceback": [
      "\u001b[1;31m---------------------------------------------------------------------------\u001b[0m",
      "\u001b[1;31mTwitterServerError\u001b[0m                        Traceback (most recent call last)",
      "Input \u001b[1;32mIn [4]\u001b[0m, in \u001b[0;36m<cell line: 3>\u001b[1;34m()\u001b[0m\n\u001b[0;32m      1\u001b[0m query \u001b[38;5;241m=\u001b[39m \u001b[38;5;124m\"\u001b[39m\u001b[38;5;124mdog -is:retweet has:images\u001b[39m\u001b[38;5;124m\"\u001b[39m\n\u001b[1;32m----> 3\u001b[0m tweet_search_results \u001b[38;5;241m=\u001b[39m \u001b[43mclient\u001b[49m\u001b[38;5;241;43m.\u001b[39;49m\u001b[43msearch_recent_tweets\u001b[49m\u001b[43m(\u001b[49m\n\u001b[0;32m      4\u001b[0m \u001b[43m                                    \u001b[49m\u001b[43mquery\u001b[49m\u001b[38;5;241;43m=\u001b[39;49m\u001b[43mquery\u001b[49m\u001b[43m,\u001b[49m\n\u001b[0;32m      5\u001b[0m \u001b[43m                                    \u001b[49m\u001b[43mexpansions\u001b[49m\u001b[38;5;241;43m=\u001b[39;49m\u001b[38;5;124;43m'\u001b[39;49m\u001b[38;5;124;43mattachments.media_keys\u001b[39;49m\u001b[38;5;124;43m'\u001b[39;49m\u001b[43m,\u001b[49m\u001b[43m \u001b[49m\u001b[38;5;66;43;03m#tell twitter to download the media related to this tweet\u001b[39;49;00m\n\u001b[0;32m      6\u001b[0m \u001b[43m                                    \u001b[49m\u001b[43mmedia_fields\u001b[49m\u001b[38;5;241;43m=\u001b[39;49m\u001b[43m[\u001b[49m\u001b[38;5;124;43m'\u001b[39;49m\u001b[38;5;124;43mpreview_image_url\u001b[39;49m\u001b[38;5;124;43m'\u001b[39;49m\u001b[43m,\u001b[49m\u001b[43m \u001b[49m\u001b[38;5;124;43m'\u001b[39;49m\u001b[38;5;124;43mheight\u001b[39;49m\u001b[38;5;124;43m'\u001b[39;49m\u001b[43m,\u001b[49m\u001b[43m \u001b[49m\u001b[38;5;124;43m'\u001b[39;49m\u001b[38;5;124;43mwidth\u001b[39;49m\u001b[38;5;124;43m'\u001b[39;49m\u001b[43m]\u001b[49m\u001b[43m  \u001b[49m\u001b[38;5;66;43;03m# when getting the media, make sure to include this info\u001b[39;49;00m\n\u001b[0;32m      7\u001b[0m \u001b[43m                                    \u001b[49m\u001b[43m)\u001b[49m\n",
      "File \u001b[1;32mC:\\Python310\\lib\\site-packages\\tweepy\\client.py:1248\u001b[0m, in \u001b[0;36mClient.search_recent_tweets\u001b[1;34m(self, query, user_auth, **params)\u001b[0m\n\u001b[0;32m   1156\u001b[0m \u001b[38;5;124;03m\"\"\"search_recent_tweets( \\\u001b[39;00m\n\u001b[0;32m   1157\u001b[0m \u001b[38;5;124;03m    query, *, end_time=None, expansions=None, max_results=None, \\\u001b[39;00m\n\u001b[0;32m   1158\u001b[0m \u001b[38;5;124;03m    media_fields=None, next_token=None, place_fields=None, \\\u001b[39;00m\n\u001b[1;32m   (...)\u001b[0m\n\u001b[0;32m   1245\u001b[0m \u001b[38;5;124;03m.. _Academic Research Project: https://developer.twitter.com/en/docs/projects\u001b[39;00m\n\u001b[0;32m   1246\u001b[0m \u001b[38;5;124;03m\"\"\"\u001b[39;00m\n\u001b[0;32m   1247\u001b[0m params[\u001b[38;5;124m\"\u001b[39m\u001b[38;5;124mquery\u001b[39m\u001b[38;5;124m\"\u001b[39m] \u001b[38;5;241m=\u001b[39m query\n\u001b[1;32m-> 1248\u001b[0m \u001b[38;5;28;01mreturn\u001b[39;00m \u001b[38;5;28;43mself\u001b[39;49m\u001b[38;5;241;43m.\u001b[39;49m\u001b[43m_make_request\u001b[49m\u001b[43m(\u001b[49m\n\u001b[0;32m   1249\u001b[0m \u001b[43m    \u001b[49m\u001b[38;5;124;43m\"\u001b[39;49m\u001b[38;5;124;43mGET\u001b[39;49m\u001b[38;5;124;43m\"\u001b[39;49m\u001b[43m,\u001b[49m\u001b[43m \u001b[49m\u001b[38;5;124;43m\"\u001b[39;49m\u001b[38;5;124;43m/2/tweets/search/recent\u001b[39;49m\u001b[38;5;124;43m\"\u001b[39;49m\u001b[43m,\u001b[49m\u001b[43m \u001b[49m\u001b[43mparams\u001b[49m\u001b[38;5;241;43m=\u001b[39;49m\u001b[43mparams\u001b[49m\u001b[43m,\u001b[49m\n\u001b[0;32m   1250\u001b[0m \u001b[43m    \u001b[49m\u001b[43mendpoint_parameters\u001b[49m\u001b[38;5;241;43m=\u001b[39;49m\u001b[43m(\u001b[49m\n\u001b[0;32m   1251\u001b[0m \u001b[43m        \u001b[49m\u001b[38;5;124;43m\"\u001b[39;49m\u001b[38;5;124;43mend_time\u001b[39;49m\u001b[38;5;124;43m\"\u001b[39;49m\u001b[43m,\u001b[49m\u001b[43m \u001b[49m\u001b[38;5;124;43m\"\u001b[39;49m\u001b[38;5;124;43mexpansions\u001b[39;49m\u001b[38;5;124;43m\"\u001b[39;49m\u001b[43m,\u001b[49m\u001b[43m \u001b[49m\u001b[38;5;124;43m\"\u001b[39;49m\u001b[38;5;124;43mmax_results\u001b[39;49m\u001b[38;5;124;43m\"\u001b[39;49m\u001b[43m,\u001b[49m\u001b[43m \u001b[49m\u001b[38;5;124;43m\"\u001b[39;49m\u001b[38;5;124;43mmedia.fields\u001b[39;49m\u001b[38;5;124;43m\"\u001b[39;49m\u001b[43m,\u001b[49m\n\u001b[0;32m   1252\u001b[0m \u001b[43m        \u001b[49m\u001b[38;5;124;43m\"\u001b[39;49m\u001b[38;5;124;43mnext_token\u001b[39;49m\u001b[38;5;124;43m\"\u001b[39;49m\u001b[43m,\u001b[49m\u001b[43m \u001b[49m\u001b[38;5;124;43m\"\u001b[39;49m\u001b[38;5;124;43mplace.fields\u001b[39;49m\u001b[38;5;124;43m\"\u001b[39;49m\u001b[43m,\u001b[49m\u001b[43m \u001b[49m\u001b[38;5;124;43m\"\u001b[39;49m\u001b[38;5;124;43mpoll.fields\u001b[39;49m\u001b[38;5;124;43m\"\u001b[39;49m\u001b[43m,\u001b[49m\u001b[43m \u001b[49m\u001b[38;5;124;43m\"\u001b[39;49m\u001b[38;5;124;43mquery\u001b[39;49m\u001b[38;5;124;43m\"\u001b[39;49m\u001b[43m,\u001b[49m\n\u001b[0;32m   1253\u001b[0m \u001b[43m        \u001b[49m\u001b[38;5;124;43m\"\u001b[39;49m\u001b[38;5;124;43msince_id\u001b[39;49m\u001b[38;5;124;43m\"\u001b[39;49m\u001b[43m,\u001b[49m\u001b[43m \u001b[49m\u001b[38;5;124;43m\"\u001b[39;49m\u001b[38;5;124;43msort_order\u001b[39;49m\u001b[38;5;124;43m\"\u001b[39;49m\u001b[43m,\u001b[49m\u001b[43m \u001b[49m\u001b[38;5;124;43m\"\u001b[39;49m\u001b[38;5;124;43mstart_time\u001b[39;49m\u001b[38;5;124;43m\"\u001b[39;49m\u001b[43m,\u001b[49m\u001b[43m \u001b[49m\u001b[38;5;124;43m\"\u001b[39;49m\u001b[38;5;124;43mtweet.fields\u001b[39;49m\u001b[38;5;124;43m\"\u001b[39;49m\u001b[43m,\u001b[49m\n\u001b[0;32m   1254\u001b[0m \u001b[43m        \u001b[49m\u001b[38;5;124;43m\"\u001b[39;49m\u001b[38;5;124;43muntil_id\u001b[39;49m\u001b[38;5;124;43m\"\u001b[39;49m\u001b[43m,\u001b[49m\u001b[43m \u001b[49m\u001b[38;5;124;43m\"\u001b[39;49m\u001b[38;5;124;43muser.fields\u001b[39;49m\u001b[38;5;124;43m\"\u001b[39;49m\n\u001b[0;32m   1255\u001b[0m \u001b[43m    \u001b[49m\u001b[43m)\u001b[49m\u001b[43m,\u001b[49m\u001b[43m \u001b[49m\u001b[43mdata_type\u001b[49m\u001b[38;5;241;43m=\u001b[39;49m\u001b[43mTweet\u001b[49m\u001b[43m,\u001b[49m\u001b[43m \u001b[49m\u001b[43muser_auth\u001b[49m\u001b[38;5;241;43m=\u001b[39;49m\u001b[43muser_auth\u001b[49m\n\u001b[0;32m   1256\u001b[0m \u001b[43m\u001b[49m\u001b[43m)\u001b[49m\n",
      "File \u001b[1;32mC:\\Python310\\lib\\site-packages\\tweepy\\client.py:126\u001b[0m, in \u001b[0;36mBaseClient._make_request\u001b[1;34m(self, method, route, params, endpoint_parameters, json, data_type, user_auth)\u001b[0m\n\u001b[0;32m    122\u001b[0m \u001b[38;5;28;01mdef\u001b[39;00m \u001b[38;5;21m_make_request\u001b[39m(\u001b[38;5;28mself\u001b[39m, method, route, params\u001b[38;5;241m=\u001b[39m{}, endpoint_parameters\u001b[38;5;241m=\u001b[39m\u001b[38;5;28;01mNone\u001b[39;00m,\n\u001b[0;32m    123\u001b[0m                   json\u001b[38;5;241m=\u001b[39m\u001b[38;5;28;01mNone\u001b[39;00m, data_type\u001b[38;5;241m=\u001b[39m\u001b[38;5;28;01mNone\u001b[39;00m, user_auth\u001b[38;5;241m=\u001b[39m\u001b[38;5;28;01mFalse\u001b[39;00m):\n\u001b[0;32m    124\u001b[0m     request_params \u001b[38;5;241m=\u001b[39m \u001b[38;5;28mself\u001b[39m\u001b[38;5;241m.\u001b[39m_process_params(params, endpoint_parameters)\n\u001b[1;32m--> 126\u001b[0m     response \u001b[38;5;241m=\u001b[39m \u001b[38;5;28;43mself\u001b[39;49m\u001b[38;5;241;43m.\u001b[39;49m\u001b[43mrequest\u001b[49m\u001b[43m(\u001b[49m\u001b[43mmethod\u001b[49m\u001b[43m,\u001b[49m\u001b[43m \u001b[49m\u001b[43mroute\u001b[49m\u001b[43m,\u001b[49m\u001b[43m \u001b[49m\u001b[43mparams\u001b[49m\u001b[38;5;241;43m=\u001b[39;49m\u001b[43mrequest_params\u001b[49m\u001b[43m,\u001b[49m\n\u001b[0;32m    127\u001b[0m \u001b[43m                            \u001b[49m\u001b[43mjson\u001b[49m\u001b[38;5;241;43m=\u001b[39;49m\u001b[43mjson\u001b[49m\u001b[43m,\u001b[49m\u001b[43m \u001b[49m\u001b[43muser_auth\u001b[49m\u001b[38;5;241;43m=\u001b[39;49m\u001b[43muser_auth\u001b[49m\u001b[43m)\u001b[49m\n\u001b[0;32m    129\u001b[0m     \u001b[38;5;28;01mif\u001b[39;00m \u001b[38;5;28mself\u001b[39m\u001b[38;5;241m.\u001b[39mreturn_type \u001b[38;5;129;01mis\u001b[39;00m requests\u001b[38;5;241m.\u001b[39mResponse:\n\u001b[0;32m    130\u001b[0m         \u001b[38;5;28;01mreturn\u001b[39;00m response\n",
      "File \u001b[1;32mC:\\Python310\\lib\\site-packages\\tweepy\\client.py:116\u001b[0m, in \u001b[0;36mBaseClient.request\u001b[1;34m(self, method, route, params, json, user_auth)\u001b[0m\n\u001b[0;32m    114\u001b[0m         \u001b[38;5;28;01mraise\u001b[39;00m TooManyRequests(response)\n\u001b[0;32m    115\u001b[0m \u001b[38;5;28;01mif\u001b[39;00m response\u001b[38;5;241m.\u001b[39mstatus_code \u001b[38;5;241m>\u001b[39m\u001b[38;5;241m=\u001b[39m \u001b[38;5;241m500\u001b[39m:\n\u001b[1;32m--> 116\u001b[0m     \u001b[38;5;28;01mraise\u001b[39;00m TwitterServerError(response)\n\u001b[0;32m    117\u001b[0m \u001b[38;5;28;01mif\u001b[39;00m \u001b[38;5;129;01mnot\u001b[39;00m \u001b[38;5;241m200\u001b[39m \u001b[38;5;241m<\u001b[39m\u001b[38;5;241m=\u001b[39m response\u001b[38;5;241m.\u001b[39mstatus_code \u001b[38;5;241m<\u001b[39m \u001b[38;5;241m300\u001b[39m:\n\u001b[0;32m    118\u001b[0m     \u001b[38;5;28;01mraise\u001b[39;00m HTTPException(response)\n",
      "\u001b[1;31mTwitterServerError\u001b[0m: 500 Internal Server Error"
     ]
    }
   ],
   "source": [
    "query = \"dog -is:retweet has:images\"\n",
    "\n",
    "tweet_search_results = client.search_recent_tweets(\n",
    "                                    query=query,\n",
    "                                    expansions='attachments.media_keys', #tell twitter to download the media related to this tweet\n",
    "                                    media_fields=['preview_image_url', 'height', 'width']  # when getting the media, make sure to include this info\n",
    "                                    )\n"
   ]
  },
  {
   "cell_type": "markdown",
   "id": "bb8f55e0-3c31-4334-8df9-150a24517968",
   "metadata": {},
   "source": [
    "Now, when our search comes back, it has both the Tweet information and the information about media (including images) in those Tweets. \n",
    "\n",
    "Unfortunately the Tweet info and the media info come back in two separate parts of the tweet_search_results:\n",
    "- `tweet_search_results.data` has the list of tweets\n",
    "- `tweet_search_results.includes['media']` has a list of the pieces of media in the tweets\n",
    "\n"
   ]
  },
  {
   "cell_type": "code",
   "execution_count": 7,
   "id": "891a84b2-1a49-48f5-8e4f-aaa1f009ae32",
   "metadata": {},
   "outputs": [
    {
     "data": {
      "text/plain": [
       "[<Tweet id=1584802143131029504 text=\"Favorite macOS Ventura update so far: this new printer preview dog(?) in Xcode.\\n\\nI accidentally open this instead of 'Open Quickly...' on a daily basis. Nice to have a new friend greeting me. 🐶 https://t.co/kK0sJMlQYV\">,\n",
       " <Tweet id=1584802141184876544 text='Not much light on the dog walk this morning, looking forward to the clocks changing. 🐕🌒 https://t.co/iedHiOFw7X'>,\n",
       " <Tweet id=1584802130141106177 text=\"#NowPlaying on #personalfavorites internet radio: Hair of the Dog by Nazareth #ListenLive 'Alexa, Play Personal Favorites Now' -or- https://t.co/cGpACL8uW1. #AutumnVibes #October #Halloween\\n Buy this Personal Favorite! https://t.co/8UvoY14DK7 https://t.co/VzRPgF3HOC\">,\n",
       " <Tweet id=1584802129381888002 text='Want to learn more about $TAG? Wait no longer, the tea is about to be spilled!\\n\\nDog Tag ($TAG) is an ERC-20 governance token for the CollarQuest metaverse. TAG holders will be able to claim rewards if they stake their tokens, play the game, and participate in governance votes. https://t.co/O8eQOdzXbH'>,\n",
       " <Tweet id=1584802098323111942 text='Dog Mat Cooling Summer Pad Mat For Dogs Cat Blanket Sofa Breathable Pet Dog Bed Summer Washable For Small Medium Large Dogs Car\\n\\n#hashtag2 \\n\\nhttps://t.co/anj48xeRmV https://t.co/0ux2oNgcKm'>,\n",
       " <Tweet id=1584802063367966720 text='【★400円オフクーポン！25日0:00～】ペットシーツ 薄型 ワイド 400枚 レギュラー 800枚 ペットシート 猫 大容量 まとめ買い 業務用 ケース ペット用 犬 トイレシート 超薄型 1回使い捨て オリジナルシーツ ペット用シーツ いぬ 猫 システムトイレ【あす楽】 [楽天] https://t.co/yaIVDfmItN #rakuafl https://t.co/3kpSuY8pha'>,\n",
       " <Tweet id=1584802057894395905 text='@YONWORLD7 No one can stop this Epic \\nBuff Dog going jump higher\\nHULK INU going to the Moon 🌕\\n\\n#HULK\\n$HULK #HULKINU\\n#STRONGESTINU #HULKARMY\\n#ETH #NFT #NFTutilities\\n\\n@JakeGagain @Yourpop8\\n@hulkinuofficial @AdamShelton\\n@BSCGemAlert @1goonrich https://t.co/PBLjo9eMPm'>,\n",
       " <Tweet id=1584802056333709312 text='The real problem with global hearing is that all the virtue signalling in the world has little impact. \\n\\nCycle? Good. Have a dog? Might as well have had a car. You need to get rid of the dog. https://t.co/EGyFBot17D'>,\n",
       " <Tweet id=1584802052441792512 text=\"#Truth \\nIn modern times the tail has been wagging the dog &amp; the right to freedom of speech has been suppressed. It's about time the adults spoke up once &amp; for all before it's too late. Don't take your freedom for granted anymore! #StandUp https://t.co/3Gh6FKP9UU\">,\n",
       " <Tweet id=1584802005218111488 text='Raider Dog Bowl. Custom. R400. Whatsapp/call us at 0829742809 https://t.co/JOBwAE87fp'>]"
      ]
     },
     "metadata": {},
     "output_type": "display_data"
    }
   ],
   "source": [
    "display(tweet_search_results.data)"
   ]
  },
  {
   "cell_type": "code",
   "execution_count": 12,
   "id": "25ff0e40-d144-4a6b-b256-1678eb43fbed",
   "metadata": {},
   "outputs": [
    {
     "data": {
      "text/plain": [
       "[<Media media_key=3_1584799486039277569 type=photo>,\n",
       " <Media media_key=3_1584802135358717953 type=photo>,\n",
       " <Media media_key=3_1584802128966688769 type=photo>,\n",
       " <Media media_key=3_1584802127238631424 type=photo>,\n",
       " <Media media_key=3_1584802096259518464 type=photo>,\n",
       " <Media media_key=3_1584802061530824705 type=photo>,\n",
       " <Media media_key=3_1584802054589263872 type=photo>,\n",
       " <Media media_key=3_1584801972791779330 type=photo>,\n",
       " <Media media_key=3_1584801194295189504 type=photo>,\n",
       " <Media media_key=3_1584802023605563393 type=photo>,\n",
       " <Media media_key=3_1584801968148594688 type=photo>,\n",
       " <Media media_key=3_1584801977392893953 type=photo>,\n",
       " <Media media_key=3_1584801988855975936 type=photo>,\n",
       " <Media media_key=3_1584802001287843840 type=photo>]"
      ]
     },
     "metadata": {},
     "output_type": "display_data"
    }
   ],
   "source": [
    "display(tweet_search_results.includes['media'])"
   ]
  },
  {
   "cell_type": "markdown",
   "id": "f720ef7c-9592-428f-b92a-aec67a720bf4",
   "metadata": {},
   "source": [
    "The way this comes back doesn't directly tell us which piece of media is part of which tweet. Instead, for each piece of media, there is a special id number called the `media_key`, and for each tweet there is a list of `media_key`s that are part of the tweet. \n",
    "- for a `tweet` in `tweets.data`, the media_keys are in `tweet.data['attachments']['media_keys']`\n",
    "- for a piece of `media` in the `tweets.includes['media']`, the media_id is in `media['media_key']`\n",
    "\n",
    "So, if we are looking at a tweet, and look at the media keys, we will want to look up the media information that goes with that key. Looking up something based on a key is easiest to do with a dictionary in Python. So, what we will do is make a dictionary where the keys are media_keys, and the values are the media information. It will look something like this:\n",
    "\n",
    "Below is the code to do this (using several Python short hand tricks at once):"
   ]
  },
  {
   "cell_type": "code",
   "execution_count": 14,
   "id": "eae06fae-a7cc-409e-aa76-9051b8e1999e",
   "metadata": {},
   "outputs": [
    {
     "data": {
      "text/plain": [
       "{'3_1584799486039277569': <Media media_key=3_1584799486039277569 type=photo>,\n",
       " '3_1584802135358717953': <Media media_key=3_1584802135358717953 type=photo>,\n",
       " '3_1584802128966688769': <Media media_key=3_1584802128966688769 type=photo>,\n",
       " '3_1584802127238631424': <Media media_key=3_1584802127238631424 type=photo>,\n",
       " '3_1584802096259518464': <Media media_key=3_1584802096259518464 type=photo>,\n",
       " '3_1584802061530824705': <Media media_key=3_1584802061530824705 type=photo>,\n",
       " '3_1584802054589263872': <Media media_key=3_1584802054589263872 type=photo>,\n",
       " '3_1584801972791779330': <Media media_key=3_1584801972791779330 type=photo>,\n",
       " '3_1584801194295189504': <Media media_key=3_1584801194295189504 type=photo>,\n",
       " '3_1584802023605563393': <Media media_key=3_1584802023605563393 type=photo>,\n",
       " '3_1584801968148594688': <Media media_key=3_1584801968148594688 type=photo>,\n",
       " '3_1584801977392893953': <Media media_key=3_1584801977392893953 type=photo>,\n",
       " '3_1584801988855975936': <Media media_key=3_1584801988855975936 type=photo>,\n",
       " '3_1584802001287843840': <Media media_key=3_1584802001287843840 type=photo>}"
      ]
     },
     "metadata": {},
     "output_type": "display_data"
    }
   ],
   "source": [
    "media_lookup = {m[\"media_key\"]: m for m in tweet_search_results.includes['media']}\n",
    "\n",
    "display(media_lookup)"
   ]
  },
  {
   "cell_type": "markdown",
   "id": "c33af17f-b350-4fe6-9bec-c8de84e6c470",
   "metadata": {},
   "source": [
    "Now we can choose a tweet, find the media_keys for that tweet, and then look up the media information on each of those tweets"
   ]
  },
  {
   "cell_type": "code",
   "execution_count": 17,
   "id": "c3a0a565-a43e-4031-9f69-477c3c012857",
   "metadata": {},
   "outputs": [
    {
     "name": "stdout",
     "output_type": "stream",
     "text": [
      "displaying info for tweet: Favorite macOS Ventura update so far: this new printer preview dog(?) in Xcode.\n",
      "\n",
      "I accidentally open this instead of 'Open Quickly...' on a daily basis. Nice to have a new friend greeting me. 🐶 https://t.co/kK0sJMlQYV\n",
      "  type: photo\n",
      "  height: 628\n",
      "  width: 1480\n"
     ]
    }
   ],
   "source": [
    "# get the first tweet\n",
    "first_tweet = tweet_search_results.data[0]\n",
    "\n",
    "print(\"displaying info for tweet: \" + first_tweet.text)\n",
    "\n",
    "# get the media keys for the first tweet\n",
    "first_tweet_media_keys = first_tweet.data['attachments']['media_keys']\n",
    "\n",
    "# loop through the media keys\n",
    "for media_key in first_tweet_media_keys:\n",
    "    # lookup the info about this particular media_key\n",
    "    media_info = media_lookup[media_key]\n",
    "    \n",
    "    # print out some info about this piece of media\n",
    "    print(\"  type: \" + media_info.type)\n",
    "    print(\"  height: \" + str(media_info.height))\n",
    "    print(\"  width: \" + str(media_info.width))\n",
    "    print()"
   ]
  },
  {
   "cell_type": "markdown",
   "id": "d5825f23-3859-45ac-92d2-a30002912063",
   "metadata": {},
   "source": [
    "## Get user information\n",
    "User information works the same way that media information did, though there will only be one author per tweet. We have to set an expansion and tell what user fields to download:"
   ]
  },
  {
   "cell_type": "code",
   "execution_count": 19,
   "id": "f7a1f9de-036b-463d-8e51-e4c520ca8497",
   "metadata": {},
   "outputs": [],
   "source": [
    "query = \"dog -is:retweet has:images\"\n",
    "\n",
    "tweet_search_results = client.search_recent_tweets(\n",
    "                                    query=query,\n",
    "                                    expansions='author_id', #tell twitter to download the author related to this tweet\n",
    "                                    user_fields=['profile_image_url']  # when getting the author, make sure to include this info\n",
    "                                    )"
   ]
  },
  {
   "cell_type": "markdown",
   "id": "52e7a8d5-fb1f-476f-a9d4-86d30495d3a8",
   "metadata": {},
   "source": [
    "Then we make a lookup dictionary for the user information"
   ]
  },
  {
   "cell_type": "code",
   "execution_count": 20,
   "id": "d7b40dfa-1185-41b9-88ef-051c96e493ce",
   "metadata": {},
   "outputs": [
    {
     "data": {
      "text/plain": [
       "{1727995530: <User id=1727995530 name=Syed Haris Ahmed 🇵🇰 username=syedharisahmed4>,\n",
       " 1072162801: <User id=1072162801 name=Stephanie Cowburn username=StephCowburn>,\n",
       " 19609660: <User id=19609660 name=Tom Gillispie -- NATURE NEEDS OUR HELP 🦮🌎🌊🏈 username=EDITORatWORK>,\n",
       " 1564817655802089472: <User id=1564817655802089472 name=jenn 🍂 username=jennitaliass>,\n",
       " 1542487286058819586: <User id=1542487286058819586 name=实体_店_会_所_ 西湖 滨江 拱墅 绍兴 西安 北郊 未央 雁塔 曲江 陕西 咸阳 武汉 武昌 username=LeanaNeyland>,\n",
       " 769963290680233984: <User id=769963290680233984 name=ハルにゃん@取引用アカウント username=harunyancyuuu>,\n",
       " 7681732: <User id=7681732 name=Eileen username=NZNeep>,\n",
       " 1563865803946336256: <User id=1563865803946336256 name=Mark Zz 🧪 🧪 🧪 🧪 username=MarkZz86437584>,\n",
       " 1097114082849771522: <User id=1097114082849771522 name=The Garden House username=TheGardenHouse5>,\n",
       " 1344888147549814785: <User id=1344888147549814785 name=Paul Storm username=PaulSto91558029>}"
      ]
     },
     "metadata": {},
     "output_type": "display_data"
    }
   ],
   "source": [
    "user_lookup = {u[\"id\"]: u for u in tweet_search_results.includes['users']}\n",
    "\n",
    "display(user_lookup)"
   ]
  },
  {
   "cell_type": "markdown",
   "id": "6fdf249f-277f-4cca-b8ee-5b79cf0ea4a4",
   "metadata": {},
   "source": [
    "Then we can find the `author_id` of a tweet in tweet.author_id, and look it up in the `user_lookup` dictionary"
   ]
  },
  {
   "cell_type": "code",
   "execution_count": 23,
   "id": "327969c2-5d40-44e3-b9fb-3671b651394c",
   "metadata": {},
   "outputs": [
    {
     "name": "stdout",
     "output_type": "stream",
     "text": [
      "displaying info for tweet: Sometimes I feel sorry for the mainstream media in this country. It seems that not only Ducky, but all of you have been bitten by the dog. What is the level of our media? https://t.co/FfMaygdlHk\n",
      "  author name: Syed Haris Ahmed 🇵🇰\n",
      "  author username: syedharisahmed4\n",
      "  author profile image: https://pbs.twimg.com/profile_images/1564543192103587842/lcoBoC_c_normal.jpg\n"
     ]
    }
   ],
   "source": [
    "first_tweet = tweet_search_results.data[0]\n",
    "\n",
    "print(\"displaying info for tweet: \" + first_tweet.text)\n",
    "\n",
    "# get the author id for the first tweet\n",
    "first_tweet_author_id = first_tweet.author_id\n",
    "\n",
    "author = user_lookup[first_tweet_author_id]\n",
    "\n",
    "# look up info about the author:\n",
    "print(\"  author name: \" + author.name)\n",
    "print(\"  author username: \" + author.username)\n",
    "print(\"  author profile image: \" + author.profile_image_url)\n",
    "\n"
   ]
  },
  {
   "cell_type": "code",
   "execution_count": null,
   "id": "29afd220-ab6e-47c2-89e0-27308015482f",
   "metadata": {},
   "outputs": [],
   "source": []
  }
 ],
 "metadata": {
  "kernelspec": {
   "display_name": "Python 3 (ipykernel)",
   "language": "python",
   "name": "python3"
  },
  "language_info": {
   "codemirror_mode": {
    "name": "ipython",
    "version": 3
   },
   "file_extension": ".py",
   "mimetype": "text/x-python",
   "name": "python",
   "nbconvert_exporter": "python",
   "pygments_lexer": "ipython3",
   "version": "3.10.4"
  }
 },
 "nbformat": 4,
 "nbformat_minor": 5
}
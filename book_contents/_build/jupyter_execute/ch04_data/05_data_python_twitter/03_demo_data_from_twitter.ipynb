{
 "cells": [
  {
   "cell_type": "markdown",
   "id": "62d9cd26-13e3-4df0-99e5-bcfa7fbfad4a",
   "metadata": {},
   "source": [
    "# Demo: Data from a Tweet\n",
    "Let's see what the data actually looks like from a Tweet!\n",
    "\n",
    "First we need to do our normal twitter login steps (and optional fake tweepy step)\n",
    "## Log into tweepy (or fake tweepy)\n",
    "### "
   ]
  },
  {
   "cell_type": "code",
   "execution_count": 1,
   "id": "1a3df841-d3c4-4c0c-8790-1e5224c351f1",
   "metadata": {},
   "outputs": [],
   "source": [
    "# Load some code called \"tweepy\" that will help us work with twitter\n",
    "import tweepy"
   ]
  },
  {
   "cell_type": "markdown",
   "id": "d644c195-845e-412f-93b4-dcd8e058e504",
   "metadata": {},
   "source": [
    "### (optional) make a fake twitter connection with the fake_tweepy library\n",
    "For testing purposes, we've added this line of code, which loads a fake version of tweepy, so it wont actually connect to twitter. __If you want to try to actually connect to twitter, don't run this line of code.__"
   ]
  },
  {
   "cell_type": "code",
   "execution_count": 2,
   "id": "6d977d90-5091-470d-ab5c-8814d6b0072f",
   "metadata": {},
   "outputs": [
    {
     "data": {
      "text/html": [
       "<strong style='color:darkred'>Fake tweepy is replacing the tweepy library. Fake Tweepy doesn&#x27;t need real passwords, and prevents you from accessing real twitter</strong>"
      ],
      "text/plain": [
       "<IPython.core.display.HTML object>"
      ]
     },
     "metadata": {},
     "output_type": "display_data"
    }
   ],
   "source": [
    "%run ../../fake_tweepy/fake_tweepy.ipynb"
   ]
  },
  {
   "cell_type": "markdown",
   "id": "a204fa9d-613e-4dfe-849c-d2f053a2f012",
   "metadata": {},
   "source": [
    "### load your developer access passwords\n",
    "To use this on your real twitter account, copy your [developer access passwords](../../prefaces/making_twitter_account.md) into the code below, replacing our fake passwords."
   ]
  },
  {
   "cell_type": "code",
   "execution_count": 3,
   "id": "199ccb44-f8f1-4d23-b9f6-e06a499b2c73",
   "metadata": {},
   "outputs": [],
   "source": [
    "# Load all your developer access passwords into Python\n",
    "# TODO: Put your twitter account's special developer access passwords below:\n",
    "bearer_token = \"n4tossfgsafs_fake_bearer_token_isa53#$%$\"\n",
    "consumer_key = \"sa@#4@fdfdsa_fake_consumer_key_$%DSG#%DG\"\n",
    "consumer_secret = \"45adf$T$A_fake_consumer_secret_JESdsg\"\n",
    "access_token = \"56sd5Ss4tsea_fake_access_token_%YE%hDsdr\"\n",
    "access_token_secret = \"j^$dr_fake_consumer_key_^A5s#DR5s\""
   ]
  },
  {
   "cell_type": "code",
   "execution_count": 8,
   "id": "1994b781-1aaf-4876-91b3-cc2df9aa9e14",
   "metadata": {},
   "outputs": [],
   "source": []
  },
  {
   "cell_type": "markdown",
   "id": "1e89b2ac-f84f-4307-8b2d-e609fd17185c",
   "metadata": {},
   "source": [
    "### give tweepy (or fake_tweepy) your developer access passwords"
   ]
  },
  {
   "cell_type": "code",
   "execution_count": 4,
   "id": "c6de9bfe-fb20-4a79-9f52-dd02c558f542",
   "metadata": {},
   "outputs": [
    {
     "data": {
      "text/html": [
       "<strong style='color:darkred'>Fake Tweepy is pretending to log in to twitter</strong>"
      ],
      "text/plain": [
       "<IPython.core.display.HTML object>"
      ]
     },
     "metadata": {},
     "output_type": "display_data"
    }
   ],
   "source": [
    "# Give the tweepy code your developer access passwords so\n",
    "# it can perform twitter actions\n",
    "client = tweepy.Client(\n",
    "   bearer_token=bearer_token,\n",
    "   consumer_key=consumer_key, consumer_secret=consumer_secret,\n",
    "   access_token=access_token, access_token_secret=access_token_secret\n",
    ")"
   ]
  },
  {
   "cell_type": "markdown",
   "id": "b69feda2-7122-4487-b924-c7a98a2dea4d",
   "metadata": {},
   "source": [
    "## Find a tweet\n",
    "Below I have the code to find a recent tweet that has the words \"cute\" and \"cat\". \n",
    "\n",
    "Don't worry if you don't understand this part yet, We are\n",
    "just doing this, so we can get to the point of seeing what tweet data looks like.\n",
    "\n",
    "_Note: If you run this on real twitter, we can't gurantee anything about how offensive what you might find is. We don't know of any word search We could guarantee would be safe._"
   ]
  },
  {
   "cell_type": "code",
   "execution_count": 5,
   "id": "2f2616c7-4c67-45c8-9788-9cf9b8ea2ace",
   "metadata": {},
   "outputs": [
    {
     "ename": "AttributeError",
     "evalue": "'types.SimpleNamespace' object has no attribute 'search_recent_tweets'",
     "output_type": "error",
     "traceback": [
      "\u001b[1;31m---------------------------------------------------------------------------\u001b[0m",
      "\u001b[1;31mAttributeError\u001b[0m                            Traceback (most recent call last)",
      "Input \u001b[1;32mIn [5]\u001b[0m, in \u001b[0;36m<cell line: 5>\u001b[1;34m()\u001b[0m\n\u001b[0;32m      2\u001b[0m query \u001b[38;5;241m=\u001b[39m \u001b[38;5;124m'\u001b[39m\u001b[38;5;124mcute cat\u001b[39m\u001b[38;5;124m'\u001b[39m\n\u001b[0;32m      4\u001b[0m \u001b[38;5;66;03m#Run the search and request some additional info\u001b[39;00m\n\u001b[1;32m----> 5\u001b[0m tweets \u001b[38;5;241m=\u001b[39m \u001b[43mclient\u001b[49m\u001b[38;5;241;43m.\u001b[39;49m\u001b[43msearch_recent_tweets\u001b[49m(query\u001b[38;5;241m=\u001b[39mquery, tweet_fields\u001b[38;5;241m=\u001b[39m[\u001b[38;5;124m\"\u001b[39m\u001b[38;5;124mauthor_id\u001b[39m\u001b[38;5;124m\"\u001b[39m, \u001b[38;5;124m\"\u001b[39m\u001b[38;5;124mconversation_id\u001b[39m\u001b[38;5;124m\"\u001b[39m, \u001b[38;5;124m\"\u001b[39m\u001b[38;5;124mcreated_at\u001b[39m\u001b[38;5;124m\"\u001b[39m, \u001b[38;5;124m\"\u001b[39m\u001b[38;5;124mgeo\u001b[39m\u001b[38;5;124m\"\u001b[39m, \u001b[38;5;124m\"\u001b[39m\u001b[38;5;124mid\u001b[39m\u001b[38;5;124m\"\u001b[39m, \u001b[38;5;124m\"\u001b[39m\u001b[38;5;124min_reply_to_user_id\u001b[39m\u001b[38;5;124m\"\u001b[39m, \u001b[38;5;124m\"\u001b[39m\u001b[38;5;124mlang\u001b[39m\u001b[38;5;124m\"\u001b[39m, \u001b[38;5;124m\"\u001b[39m\u001b[38;5;124mpublic_metrics\u001b[39m\u001b[38;5;124m\"\u001b[39m, \u001b[38;5;124m\"\u001b[39m\u001b[38;5;124msource\u001b[39m\u001b[38;5;124m\"\u001b[39m, \u001b[38;5;124m\"\u001b[39m\u001b[38;5;124mtext\u001b[39m\u001b[38;5;124m\"\u001b[39m])\n\u001b[0;32m      7\u001b[0m \u001b[38;5;66;03m# Find the first tweet returned\u001b[39;00m\n\u001b[0;32m      8\u001b[0m recent_tweet \u001b[38;5;241m=\u001b[39m tweets\u001b[38;5;241m.\u001b[39mdata[\u001b[38;5;241m0\u001b[39m]\n",
      "\u001b[1;31mAttributeError\u001b[0m: 'types.SimpleNamespace' object has no attribute 'search_recent_tweets'"
     ]
    }
   ],
   "source": [
    "# Choose a search to run\n",
    "query = 'cute cat'\n",
    "\n",
    "#Run the search and request some additional info\n",
    "tweets = client.search_recent_tweets(query=query, tweet_fields=[\"author_id\", \"conversation_id\", \"created_at\", \"geo\", \"id\", \"in_reply_to_user_id\", \"lang\", \"public_metrics\", \"source\", \"text\"])\n",
    "\n",
    "# Find the first tweet returned\n",
    "recent_tweet = tweets.data[0]"
   ]
  },
  {
   "cell_type": "markdown",
   "id": "b1fbe575-1e06-4af5-8b25-ff0d90f1339e",
   "metadata": {},
   "source": [
    "## Look at data in tweet\n",
    "\n",
    "Now we will look at some of the data that came back!\n",
    "\n",
    "Again, don't worry too much about the code, we want to look at the data and data types.\n",
    "\n",
    "### tweet text:"
   ]
  },
  {
   "cell_type": "code",
   "execution_count": 22,
   "id": "6a47156c-496a-41b1-9696-0d04f428e3da",
   "metadata": {},
   "outputs": [
    {
     "data": {
      "text/plain": [
       "'The data type of the tweet text is: str'"
      ]
     },
     "metadata": {},
     "output_type": "display_data"
    },
    {
     "data": {
      "text/plain": [
       "'The tweet text is: RT @0215jaeyun: 🦊: you are all so cute too, sunoo! thank you! i like US but the food is a little salty but apart from that its all good!\\n🐧:…'"
      ]
     },
     "metadata": {},
     "output_type": "display_data"
    }
   ],
   "source": [
    "display(\"The data type of the tweet text is: \" + type(recent_tweet.text).__name__)\n",
    "display(\"The tweet text is: \" + recent_tweet.text)"
   ]
  },
  {
   "cell_type": "markdown",
   "id": "9186f642-bec8-41d1-a4e5-71e914767507",
   "metadata": {},
   "source": [
    "### tweet id"
   ]
  },
  {
   "cell_type": "code",
   "execution_count": 26,
   "id": "eed12635-a6c5-4403-ba5f-2fc4bdd58665",
   "metadata": {},
   "outputs": [
    {
     "data": {
      "text/plain": [
       "'The data type of the tweet id is: int'"
      ]
     },
     "metadata": {},
     "output_type": "display_data"
    },
    {
     "data": {
      "text/plain": [
       "'The tweet tweet id is: 1576450280572719105'"
      ]
     },
     "metadata": {},
     "output_type": "display_data"
    }
   ],
   "source": [
    "display(\"The data type of the tweet id is: \" + type(recent_tweet.id).__name__)\n",
    "display(\"The tweet tweet id is: \" + str(recent_tweet.id))"
   ]
  },
  {
   "cell_type": "markdown",
   "id": "ff21d864-0014-44e0-b9bd-6c7f87ba8712",
   "metadata": {},
   "source": [
    "### tweet author id"
   ]
  },
  {
   "cell_type": "code",
   "execution_count": 25,
   "id": "a16bcfcf-6ebe-49ae-a84a-8ad53655ea26",
   "metadata": {},
   "outputs": [
    {
     "data": {
      "text/plain": [
       "'The data type of the author id is: int'"
      ]
     },
     "metadata": {},
     "output_type": "display_data"
    },
    {
     "data": {
      "text/plain": [
       "'The tweet author id is: 1366277963205931013'"
      ]
     },
     "metadata": {},
     "output_type": "display_data"
    }
   ],
   "source": [
    "display(\"The data type of the author id is: \" + type(recent_tweet.author_id).__name__)\n",
    "display(\"The tweet author id is: \" + str(recent_tweet.author_id))"
   ]
  },
  {
   "cell_type": "markdown",
   "id": "e7df5f55-a70d-4219-a95e-bc0dc0db9d1f",
   "metadata": {},
   "source": [
    "### tweet created at"
   ]
  },
  {
   "cell_type": "code",
   "execution_count": 27,
   "id": "f66d41c7-d0b2-4b8d-bb30-7d5b61fee40e",
   "metadata": {},
   "outputs": [
    {
     "data": {
      "text/plain": [
       "'The data type of the tweet created at is: datetime'"
      ]
     },
     "metadata": {},
     "output_type": "display_data"
    },
    {
     "data": {
      "text/plain": [
       "'The tweet tweet created at is: 2022-10-02 05:53:30+00:00'"
      ]
     },
     "metadata": {},
     "output_type": "display_data"
    }
   ],
   "source": [
    "display(\"The data type of the tweet created at is: \" + type(recent_tweet.created_at).__name__)\n",
    "display(\"The tweet tweet created at is: \" + str(recent_tweet.created_at))"
   ]
  },
  {
   "cell_type": "markdown",
   "id": "bf914fbb-2db3-456a-8bae-0102f1e63e7b",
   "metadata": {},
   "source": [
    "### tweet lang (language)"
   ]
  },
  {
   "cell_type": "code",
   "execution_count": 28,
   "id": "44d28832-6d2a-4aa2-a22d-07f9c0e3a6e6",
   "metadata": {},
   "outputs": [
    {
     "data": {
      "text/plain": [
       "'The data type of the tweet lang is: str'"
      ]
     },
     "metadata": {},
     "output_type": "display_data"
    },
    {
     "data": {
      "text/plain": [
       "'The tweet tweet lang is: en'"
      ]
     },
     "metadata": {},
     "output_type": "display_data"
    }
   ],
   "source": [
    "display(\"The data type of the tweet lang is: \" + type(recent_tweet.lang).__name__)\n",
    "display(\"The tweet tweet lang is: \" + str(recent_tweet.lang))"
   ]
  },
  {
   "cell_type": "code",
   "execution_count": null,
   "id": "db08c245-cb8c-4acb-a633-fb68588cc17c",
   "metadata": {},
   "outputs": [],
   "source": [
    "### tweet source (device that made the tweet)"
   ]
  },
  {
   "cell_type": "code",
   "execution_count": 29,
   "id": "1d4342f5-588e-4b88-9ecf-2a9b51847f8b",
   "metadata": {},
   "outputs": [
    {
     "data": {
      "text/plain": [
       "'The data type of the tweet source is: str'"
      ]
     },
     "metadata": {},
     "output_type": "display_data"
    },
    {
     "data": {
      "text/plain": [
       "'The tweet tweet source is: Twitter Web App'"
      ]
     },
     "metadata": {},
     "output_type": "display_data"
    }
   ],
   "source": [
    "display(\"The data type of the tweet source is: \" + type(recent_tweet.source).__name__)\n",
    "display(\"The tweet tweet source is: \" + str(recent_tweet.source))"
   ]
  },
  {
   "cell_type": "markdown",
   "id": "d5ab37a3-652c-481e-aa03-a1b06e91ae95",
   "metadata": {},
   "source": [
    "### TODO: public metrics"
   ]
  },
  {
   "cell_type": "raw",
   "id": "78f9a224-2d40-4bd8-a00b-987ba79e66f9",
   "metadata": {},
   "source": [
    "\"author_id\", \"conversation_id\", \"created_at\", \"geo\", \"id\", \"in_reply_to_user_id\", \"lang\", \"public_metrics\", \"source\", \"text\""
   ]
  }
 ],
 "metadata": {
  "kernelspec": {
   "display_name": "Python 3 (ipykernel)",
   "language": "python",
   "name": "python3"
  },
  "language_info": {
   "codemirror_mode": {
    "name": "ipython",
    "version": 3
   },
   "file_extension": ".py",
   "mimetype": "text/x-python",
   "name": "python",
   "nbconvert_exporter": "python",
   "pygments_lexer": "ipython3",
   "version": "3.10.4"
  }
 },
 "nbformat": 4,
 "nbformat_minor": 5
}
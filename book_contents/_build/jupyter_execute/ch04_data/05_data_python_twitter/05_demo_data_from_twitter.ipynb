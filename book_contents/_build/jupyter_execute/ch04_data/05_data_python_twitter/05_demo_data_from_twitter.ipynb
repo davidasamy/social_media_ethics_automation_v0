{
 "cells": [
  {
   "cell_type": "markdown",
   "id": "e7e7f4f2-73ab-4f4c-bef7-d3a5e53a188f",
   "metadata": {},
   "source": [
    "# Demo: Getting data from twitter"
   ]
  }
 ],
 "metadata": {
  "kernelspec": {
   "display_name": "Python 3 (ipykernel)",
   "language": "python",
   "name": "python3"
  },
  "language_info": {
   "codemirror_mode": {
    "name": "ipython",
    "version": 3
   },
   "file_extension": ".py",
   "mimetype": "text/x-python",
   "name": "python",
   "nbconvert_exporter": "python",
   "pygments_lexer": "ipython3",
   "version": "3.10.4"
  }
 },
 "nbformat": 4,
 "nbformat_minor": 5
}
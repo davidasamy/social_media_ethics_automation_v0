{
 "cells": [
  {
   "cell_type": "markdown",
   "id": "08148b7c-867a-4e97-b12a-93c1f6924586",
   "metadata": {},
   "source": [
    "# Demo: Python Basic Data Types\n",
    "Let's now look specifically at how Python stores and lets you work with basic data types:\n",
    "* Booleans (True / False)\n",
    "* Numbers\n",
    "* Strings (Text)\n",
    "\n",
    "But first we need to look a little more about how to use functions, since we'll be using them with the data types."
   ]
  },
  {
   "cell_type": "markdown",
   "id": "2afceb90-d9a5-4a21-a20b-11a52c3c9259",
   "metadata": {},
   "source": [
    "## Calling Functions\n",
    "A function is a named section of pre-written code, which we can \"call,\" making that section of code run.\n",
    "\n",
    "We have already been calling two different functions in particular: `display` and `create_tweet`:\n",
    "- `display(\"Ethics might be relevant!\")`\n",
    "- `client.create_tweet(text=\"This is the tweet text\")`\n",
    "\n",
    "The structure of a standard function call has the following pieces:\n",
    "`function_name(input_parameters)`\n",
    "\n",
    "So we first write the name of the function (e.g., `display` or `client.create_tweet`), then we put matching parentheses after that, and inside the parentheses we put the input arguments, which are data or options for how the function should run.\n",
    "\n",
    "### Input Arguments\n",
    "- These inputs are called \"parameters\" or \"arguments\"\n",
    "- Inputs go in parentheses after the function name\n",
    "- If there are multiple inputs, they are separated by commas\n",
    "- You can also specify which input you are giving within the parenthesis by putting parameter_name=value\n",
    "\n",
    "\n",
    "Additionally, some functions produce a result, which can be saved in a variable, or used in a calculation or some other fashion. When we save the result of running a function into a variable, it looks like this:\n",
    "\n",
    "`save_result_var = function_name(input_parameters)`\n",
    "\n",
    "### Function results\n",
    "* Functions can have outputs that are called \"returns\" or \"results\"\n",
    "* When the code intepreter sees the function call, it runs the code in the function with the inputs, and then puts the output in the place where that function call was\n",
    "* The results of the function can be stored in a variable, used in a formula, or used as an argument for another function\n",
    "\n",
    "That was all a bit theoretical, so set's look at some data types now, and some specific functions that we can use with them."
   ]
  },
  {
   "cell_type": "markdown",
   "id": "d6b4fe01-60eb-40fa-803d-eb16cd3ea8bb",
   "metadata": {},
   "source": [
    "## Boolean (True / False)\n",
    "\n",
    "In Python there are two options for boolean: `True` and `False`\n",
    "\n",
    "Note that the first letter is capitalized and the rest is lower case. Python only lets you write these True and False values in that way.\n",
    "\n",
    "Let's save a boolean value in a variable, and then display it:"
   ]
  },
  {
   "cell_type": "code",
   "execution_count": 1,
   "id": "bc705294-4e14-4354-ba1b-28a0488745dc",
   "metadata": {},
   "outputs": [
    {
     "data": {
      "text/plain": [
       "True"
      ]
     },
     "metadata": {},
     "output_type": "display_data"
    }
   ],
   "source": [
    "does_user_have_blue_checkmark = True\n",
    "\n",
    "display(does_user_have_blue_checkmark)"
   ]
  },
  {
   "cell_type": "markdown",
   "id": "653cdcbe-ecfb-484a-a300-bfb686914654",
   "metadata": {},
   "source": [
    "Display lets us see what was in the variable, but we can also use a new function `type` to see what type of value is in the variable (it should be 'bool' which is short for boolean):"
   ]
  },
  {
   "cell_type": "code",
   "execution_count": 2,
   "id": "aa9da4e2-7f55-4c27-bcbc-45078c8640c5",
   "metadata": {},
   "outputs": [
    {
     "data": {
      "text/plain": [
       "bool"
      ]
     },
     "execution_count": 2,
     "metadata": {},
     "output_type": "execute_result"
    }
   ],
   "source": [
    "type(does_user_have_blue_checkmark)"
   ]
  },
  {
   "cell_type": "markdown",
   "id": "d0114256-adcd-4ca6-8028-42f7db48902c",
   "metadata": {},
   "source": [
    "## Numbers"
   ]
  },
  {
   "cell_type": "markdown",
   "id": "d1e34bb0-abd8-40b3-989c-a7c4a33f101b",
   "metadata": {},
   "source": [
    "Python allows you to use two main types of numbers:\n",
    "- Integers (whole numbers), called \"int\"\n",
    "- A \"floating point\" number with a decimal point, called a \"float\""
   ]
  },
  {
   "cell_type": "code",
   "execution_count": 3,
   "id": "3f67f0b2-09cd-4132-a25d-f8a994ac660c",
   "metadata": {},
   "outputs": [
    {
     "data": {
      "text/plain": [
       "int"
      ]
     },
     "execution_count": 3,
     "metadata": {},
     "output_type": "execute_result"
    }
   ],
   "source": [
    "type(5)"
   ]
  },
  {
   "cell_type": "code",
   "execution_count": 4,
   "id": "ed0f1cea-0c4e-47da-986e-5b8f0e6837c1",
   "metadata": {},
   "outputs": [
    {
     "data": {
      "text/plain": [
       "float"
      ]
     },
     "execution_count": 4,
     "metadata": {},
     "output_type": "execute_result"
    }
   ],
   "source": [
    "type(5.5)"
   ]
  },
  {
   "cell_type": "markdown",
   "id": "3dd81379-1407-441e-a465-4376b57083b4",
   "metadata": {},
   "source": [
    "Even though there are two types of numbers, most of the time they work together pretty seemlessly, switching to whichever type makes the most sense. For example, let's look at what happens when we add and int and a float:"
   ]
  },
  {
   "cell_type": "code",
   "execution_count": 5,
   "id": "2ec48f7c-a88e-4bc5-8b2a-16c7dc286e70",
   "metadata": {},
   "outputs": [],
   "source": [
    "example_num = 5 + 5.5"
   ]
  },
  {
   "cell_type": "code",
   "execution_count": 6,
   "id": "8720627a-d2f7-4d57-b6ac-3ad6fc45fc17",
   "metadata": {},
   "outputs": [
    {
     "data": {
      "text/plain": [
       "10.5"
      ]
     },
     "metadata": {},
     "output_type": "display_data"
    }
   ],
   "source": [
    "display(example_num)"
   ]
  },
  {
   "cell_type": "code",
   "execution_count": 7,
   "id": "d26a33ef-9347-4427-b108-b60f02cdc2d2",
   "metadata": {},
   "outputs": [
    {
     "data": {
      "text/plain": [
       "float"
      ]
     },
     "execution_count": 7,
     "metadata": {},
     "output_type": "execute_result"
    }
   ],
   "source": [
    "type(example_num)"
   ]
  },
  {
   "cell_type": "markdown",
   "id": "572f61fc-80c1-41a9-97f0-bf8375a552dd",
   "metadata": {},
   "source": [
    "???? Other functions for numbers (min max\n"
   ]
  },
  {
   "cell_type": "code",
   "execution_count": 8,
   "id": "cdd1f138-3b02-48a9-926f-36181574721b",
   "metadata": {},
   "outputs": [],
   "source": [
    "import math\n",
    "sqrt_years = math.sqrt(10)"
   ]
  },
  {
   "cell_type": "markdown",
   "id": "7b603c90-551b-4558-a5ae-3967cff645b1",
   "metadata": {},
   "source": [
    "Python also lets us create boolean values by doing comparisons of numbers. Let's save in some variables how much money I have and how much an item costs, and then do a comparison to see if I have enough money (saving the result as a boolean in a variable)"
   ]
  },
  {
   "cell_type": "code",
   "execution_count": 9,
   "id": "adb3f646-0bba-49c8-b748-cd6292663d87",
   "metadata": {},
   "outputs": [
    {
     "data": {
      "text/plain": [
       "True"
      ]
     },
     "metadata": {},
     "output_type": "display_data"
    }
   ],
   "source": [
    "money_in_wallet = 10\n",
    "cost_of_item = 7\n",
    "\n",
    "has_enough_money = money_in_wallet > cost_of_item\n",
    "\n",
    "display(has_enough_money)"
   ]
  },
  {
   "cell_type": "markdown",
   "id": "cbda191d-76d5-4fd6-87d0-ead71751a39b",
   "metadata": {},
   "source": [
    "## Data types\n",
    "Python automatically handles many different types of data, including:\n",
    "\n",
    "For text:\n",
    "* str - a String of characters\n",
    "\n",
    "For numbers:import math\n",
    "\n",
    "* int - an integer (whole number)\n",
    "* float - a floating point number (one with decimals)\n",
    "\n",
    "True/False:\n",
    "* bool - a true/false value\n",
    "\n",
    "\n",
    "See more here: https://www.w3schools.com/python/python_datatypes.asp"
   ]
  },
  {
   "cell_type": "code",
   "execution_count": null,
   "id": "9ea0e1db-7e89-4188-b993-0f3a2c27954a",
   "metadata": {},
   "outputs": [],
   "source": []
  },
  {
   "cell_type": "code",
   "execution_count": 10,
   "id": "b9be6d9b-b7c7-437c-9f55-6aa59473476b",
   "metadata": {},
   "outputs": [],
   "source": [
    "# TODO: Demo data types\n",
    "message = \"Hello World!\"\n",
    "my_name = \"Kyle\"\n",
    "\n",
    "pi = 3.141592653\n",
    "\n",
    "is_kyle_at_home = True\n",
    "is_kyle_at_uw_now = False"
   ]
  },
  {
   "cell_type": "markdown",
   "id": "3195d5f7-cdda-402f-a75d-84be49b93894",
   "metadata": {},
   "source": [
    "## Dictionary (mapping)\n",
    "Python also lets you have a variable that has multiple named pieces (it's like your variable has its own variables). The type of this is \"dict\"\n",
    "\n",
    "We won't go into details here, but if you have a variable that is type \"dict\", you can access the different components by using a dot. \n",
    "\n",
    "For example, if I have a variable `book` which is a type \"dict\" and it has components `pages` and `author`, I can get the value of the pages and author like this:\n",
    "```\n",
    "book.pages\n",
    "book.author\n",
    "```"
   ]
  },
  {
   "cell_type": "markdown",
   "id": "61f67c56-f1c1-4443-b212-4f053950fba4",
   "metadata": {},
   "source": [
    "## Error demos"
   ]
  },
  {
   "cell_type": "code",
   "execution_count": 11,
   "id": "91f87cb0-c4fa-4b16-ab5a-4eb41c7ee239",
   "metadata": {},
   "outputs": [
    {
     "ename": "TypeError",
     "evalue": "can only concatenate str (not \"int\") to str",
     "output_type": "error",
     "traceback": [
      "\u001b[1;31m---------------------------------------------------------------------------\u001b[0m",
      "\u001b[1;31mTypeError\u001b[0m                                 Traceback (most recent call last)",
      "Input \u001b[1;32mIn [11]\u001b[0m, in \u001b[0;36m<cell line: 2>\u001b[1;34m()\u001b[0m\n\u001b[0;32m      1\u001b[0m \u001b[38;5;66;03m# error when I put a number in a string\u001b[39;00m\n\u001b[1;32m----> 2\u001b[0m example_text \u001b[38;5;241m=\u001b[39m \u001b[38;5;124;43m\"\u001b[39;49m\u001b[38;5;124;43mhow old are you? I am \u001b[39;49m\u001b[38;5;124;43m\"\u001b[39;49m\u001b[43m \u001b[49m\u001b[38;5;241;43m+\u001b[39;49m\u001b[43m \u001b[49m\u001b[38;5;241;43m3\u001b[39;49m\n",
      "\u001b[1;31mTypeError\u001b[0m: can only concatenate str (not \"int\") to str"
     ]
    }
   ],
   "source": [
    "# error when I put a number in a string\n",
    "example_text = \"how old are you? I am \" + 3"
   ]
  }
 ],
 "metadata": {
  "kernelspec": {
   "display_name": "Python 3 (ipykernel)",
   "language": "python",
   "name": "python3"
  },
  "language_info": {
   "codemirror_mode": {
    "name": "ipython",
    "version": 3
   },
   "file_extension": ".py",
   "mimetype": "text/x-python",
   "name": "python",
   "nbconvert_exporter": "python",
   "pygments_lexer": "ipython3",
   "version": "3.10.4"
  }
 },
 "nbformat": 4,
 "nbformat_minor": 5
}
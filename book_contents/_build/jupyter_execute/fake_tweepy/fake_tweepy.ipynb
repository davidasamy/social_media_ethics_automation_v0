{
 "cells": [
  {
   "cell_type": "markdown",
   "id": "f0119a40-b1ad-4814-bfc4-3614e853d800",
   "metadata": {},
   "source": [
    "# Fake Tweepy Library\n",
    "This library is intended to mimic Tweepy so that the book demoes can be run without actually needing twitter credentials, and not actually posting to twitter"
   ]
  },
  {
   "cell_type": "code",
   "execution_count": 1,
   "id": "991fa352-096f-4ff2-bfce-9c5b877c578b",
   "metadata": {},
   "outputs": [],
   "source": [
    "from types import SimpleNamespace"
   ]
  },
  {
   "cell_type": "code",
   "execution_count": 2,
   "id": "d55561c8-26ff-4ef9-9397-f24b99385187",
   "metadata": {},
   "outputs": [],
   "source": [
    "tweepy = SimpleNamespace(\n",
    "    Client = lambda bearer_token=\"\", consumer_key=\"\", consumer_secret=\"\", access_token=\"\", access_token_secret=\"\" : SimpleNamespace(\n",
    "      create_tweet = lambda text=\"\" : print(text)\n",
    "    )\n",
    ")\n"
   ]
  },
  {
   "cell_type": "code",
   "execution_count": null,
   "id": "9f008fa3-2cec-49eb-967c-3888a0ca51c4",
   "metadata": {},
   "outputs": [],
   "source": []
  }
 ],
 "metadata": {
  "kernelspec": {
   "display_name": "Python 3 (ipykernel)",
   "language": "python",
   "name": "python3"
  },
  "language_info": {
   "codemirror_mode": {
    "name": "ipython",
    "version": 3
   },
   "file_extension": ".py",
   "mimetype": "text/x-python",
   "name": "python",
   "nbconvert_exporter": "python",
   "pygments_lexer": "ipython3",
   "version": "3.10.4"
  }
 },
 "nbformat": 4,
 "nbformat_minor": 5
}
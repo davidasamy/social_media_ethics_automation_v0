{
 "cells": [
  {
   "cell_type": "markdown",
   "id": "708ff3e9-f84c-4631-8297-493da4da76dc",
   "metadata": {},
   "source": [
    "# Recursion"
   ]
  },
  {
   "cell_type": "markdown",
   "id": "61dcb860-55c7-4d4e-9bc9-7630b42124aa",
   "metadata": {},
   "source": [
    "## Twitter Practice"
   ]
  },
  {
   "cell_type": "markdown",
   "id": "e1806b73-1393-4792-8f51-1a2c0f7405c0",
   "metadata": {},
   "source": [
    "#### Normal set up: run the following code block"
   ]
  },
  {
   "cell_type": "code",
   "execution_count": 1,
   "id": "1a3bee5c-fb68-4daf-9bee-72d34bb53cb6",
   "metadata": {
    "tags": []
   },
   "outputs": [
    {
     "name": "stdout",
     "output_type": "stream",
     "text": [
      "^C\n"
     ]
    },
    {
     "name": "stderr",
     "output_type": "stream",
     "text": [
      "WARNING: Ignoring invalid distribution -ip (c:\\python310\\lib\\site-packages)\n",
      "WARNING: Ignoring invalid distribution -ip (c:\\python310\\lib\\site-packages)\n"
     ]
    },
    {
     "name": "stdout",
     "output_type": "stream",
     "text": [
      "Collecting lckr-jupyterlab-variableinspector\n",
      "  Using cached lckr_jupyterlab_variableinspector-3.0.9.tar.gz (60 kB)\n",
      "  Installing build dependencies: started\n"
     ]
    },
    {
     "name": "stderr",
     "output_type": "stream",
     "text": [
      "WARNING: Ignoring invalid distribution -ip (c:\\python310\\lib\\site-packages)\n",
      "WARNING: Ignoring invalid distribution -ip (c:\\python310\\lib\\site-packages)\n",
      "WARNING: Ignoring invalid distribution -ip (c:\\python310\\lib\\site-packages)\n",
      "WARNING: Ignoring invalid distribution -ip (c:\\python310\\lib\\site-packages)\n",
      "WARNING: Ignoring invalid distribution -ip (c:\\python310\\lib\\site-packages)\n",
      "WARNING: Ignoring invalid distribution -ip (c:\\python310\\lib\\site-packages)\n"
     ]
    },
    {
     "name": "stdout",
     "output_type": "stream",
     "text": [
      "Requirement already satisfied: tweepy in c:\\python310\\lib\\site-packages (4.10.0)\n",
      "Requirement already satisfied: requests<3,>=2.27.0 in c:\\python310\\lib\\site-packages (from tweepy) (2.27.1)\n",
      "Requirement already satisfied: oauthlib<4,>=3.2.0 in c:\\python310\\lib\\site-packages (from tweepy) (3.2.0)\n",
      "Requirement already satisfied: requests-oauthlib<2,>=1.2.0 in c:\\python310\\lib\\site-packages (from tweepy) (1.3.1)\n",
      "Requirement already satisfied: charset-normalizer~=2.0.0 in c:\\python310\\lib\\site-packages (from requests<3,>=2.27.0->tweepy) (2.0.12)\n",
      "Requirement already satisfied: idna<4,>=2.5 in c:\\python310\\lib\\site-packages (from requests<3,>=2.27.0->tweepy) (3.3)\n",
      "Requirement already satisfied: certifi>=2017.4.17 in c:\\python310\\lib\\site-packages (from requests<3,>=2.27.0->tweepy) (2022.5.18.1)\n",
      "Requirement already satisfied: urllib3<1.27,>=1.21.1 in c:\\python310\\lib\\site-packages (from requests<3,>=2.27.0->tweepy) (1.26.9)\n",
      "\n",
      "[notice] A new release of pip available: 22.1.2 -> 22.2.2\n",
      "[notice] To update, run: python.exe -m pip install --upgrade pip\n"
     ]
    }
   ],
   "source": [
    "# Install variable inspector (then reload browser tab)\n",
    "!pip install lckr-jupyterlab-variableinspector\n",
    "\n",
    "# make sure tweepy library is installed\n",
    "!pip install tweepy \n",
    "import tweepy\n",
    "\n",
    "# load my twitter keys\n",
    "import my_bot_keys\n",
    "\n",
    "# log into tweepy\n",
    "client = tweepy.Client(\n",
    "    bearer_token=my_bot_keys.bearer_token,\n",
    "    consumer_key=my_bot_keys.consumer_key, consumer_secret=my_bot_keys.consumer_secret,                   \n",
    "    access_token=my_bot_keys.access_token, access_token_secret=my_bot_keys.access_token_secret\n",
    ")"
   ]
  },
  {
   "cell_type": "markdown",
   "id": "bc5a3e5d-5809-42ef-88e3-6957ca028789",
   "metadata": {},
   "source": [
    "### Getting Tweet Metrics"
   ]
  },
  {
   "cell_type": "markdown",
   "id": "c17c5b63-2b32-401d-b953-d5fcfd78adb4",
   "metadata": {},
   "source": [
    "Tweet metrics represent public information attached to any given tweet. This information incudes retweet count, reply count, like count, and quote count."
   ]
  },
  {
   "cell_type": "markdown",
   "id": "6ac66c8c-8f47-44e3-8626-f9858fc423bc",
   "metadata": {},
   "source": [
    "#### To find the ID of a tweet:\n",
    "\n",
    "The last number section of a tweet url is the ID of the tweet.\n",
    "\n",
    "If you open a tweet on twitter, you can see the url in the menu bar:\n",
    "\n",
    "&nbsp; &nbsp; &nbsp; <img src=\"tweet_url.jpg\" alt=\"the url of a tweet highlighted, with the last number part circled\" width=\"300\" />\n",
    "\n",
    "\n",
    "or you can copy the link to the tweet and you can paste it in your browser to see the url\n",
    "\n",
    "&nbsp; &nbsp; &nbsp; <img src=\"copy_link_to_tweet.jpg\" alt=\"on a tweet the share button is circled and then the copy link to tweet option is circled\" width=\"300\"/>"
   ]
  },
  {
   "cell_type": "markdown",
   "id": "f3b6b619-c564-4ba5-a505-f7111d6925da",
   "metadata": {},
   "source": [
    "#### You can get tweet metrics by specifying \"public_metrics\" in the tweet_fields parameter:"
   ]
  },
  {
   "cell_type": "code",
   "execution_count": 2,
   "id": "17220144-bb32-4289-94c2-0b5dc8880417",
   "metadata": {},
   "outputs": [
    {
     "name": "stdout",
     "output_type": "stream",
     "text": [
      "{'retweet_count': 13, 'reply_count': 0, 'like_count': 30, 'quote_count': 5}\n"
     ]
    }
   ],
   "source": [
    "# This is the structure. Try running this code block:\n",
    "\n",
    "tweet_id = 1130510065289404416\n",
    "\n",
    "tweet_info = client.get_tweet(tweet_id, tweet_fields = \"public_metrics\")\n",
    "\n",
    "tweet_metrics = tweet_info.data.public_metrics\n",
    "\n",
    "print(tweet_metrics)"
   ]
  },
  {
   "cell_type": "markdown",
   "id": "ac035073-9d31-4e61-81a9-cd5168d7e927",
   "metadata": {},
   "source": [
    "#### 1. YOU TRY: Go on twitter and find your favorite tweet. Print the tweet metrics of that tweet using the structure from the example above. \n",
    "\n",
    "#### *NOTE: for this question, you can hard code the tweet ID"
   ]
  },
  {
   "cell_type": "code",
   "execution_count": 3,
   "id": "07fcd4bd-6ade-4d17-9ba3-7b31f5b22ed2",
   "metadata": {},
   "outputs": [
    {
     "name": "stdout",
     "output_type": "stream",
     "text": [
      "{'retweet_count': 148461, 'reply_count': 2132, 'like_count': 212897, 'quote_count': 10452}\n"
     ]
    }
   ],
   "source": [
    "tweet_id = 35767743634481152\n",
    "\n",
    "tweet_info = client.get_tweet(tweet_id, tweet_fields = \"public_metrics\")\n",
    "\n",
    "tweet_metrics = tweet_info.data.public_metrics\n",
    "\n",
    "print(tweet_metrics)"
   ]
  },
  {
   "cell_type": "markdown",
   "id": "f34e9714-bc01-4146-a632-4352bf099de0",
   "metadata": {},
   "source": [
    "#### 2. Write a function that takes in a tweet ID as a paramter and returns the tweet metrics."
   ]
  },
  {
   "cell_type": "code",
   "execution_count": 4,
   "id": "b7b120e7-1963-4dc1-ba4f-67b0c0185384",
   "metadata": {},
   "outputs": [],
   "source": [
    "def get_tweet_metrics(tweet_ID):\n",
    "    tweet_info = client.get_tweet(tweet_ID, tweet_fields = \"public_metrics\")\n",
    "    tweet_metrics = tweet_info.data.public_metrics\n",
    "    return tweet_metrics"
   ]
  },
  {
   "cell_type": "markdown",
   "id": "6058e256-dd56-4fa5-8ee4-2d617cf363a5",
   "metadata": {},
   "source": [
    "#### 3. Call that function with a tweet ID of your choosing."
   ]
  },
  {
   "cell_type": "code",
   "execution_count": 5,
   "id": "6deb45a7-c9d2-446a-bc86-aa2df1c009e1",
   "metadata": {},
   "outputs": [
    {
     "data": {
      "text/plain": [
       "{'retweet_count': 148461,\n",
       " 'reply_count': 2132,\n",
       " 'like_count': 212897,\n",
       " 'quote_count': 10452}"
      ]
     },
     "execution_count": 5,
     "metadata": {},
     "output_type": "execute_result"
    }
   ],
   "source": [
    "tweet_ID = 35767743634481152\n",
    "get_tweet_metrics(tweet_ID)"
   ]
  },
  {
   "cell_type": "markdown",
   "id": "d858d895-903e-4227-b4f5-e8b67e8a7968",
   "metadata": {},
   "source": [
    "#### 4. Search for recent tweets with the query \"pike place\" and save the list in the variable `pike_tweets`. Loop through the `pike_tweets` & print the text and the metrics of each tweet."
   ]
  },
  {
   "cell_type": "code",
   "execution_count": 6,
   "id": "f8a17261-b554-45f7-a5ad-b917d279d537",
   "metadata": {},
   "outputs": [
    {
     "name": "stdout",
     "output_type": "stream",
     "text": [
      "@TobyLogsdon I used to enjoy going to Pike Place Market or taking in a ballgame. Now the only time I go there is because one of my physicians is at the UW.\n",
      "{'retweet_count': 0, 'reply_count': 0, 'like_count': 1, 'quote_count': 0}\n",
      "\n",
      "RT @NHLBruins: Pike Place, Pearl Jam, Tom Hanks, and that \"building thing\"\n",
      "\n",
      "The boys kind of know a thing or two about Seattle...\n",
      "\n",
      "#NHLBrui…\n",
      "{'retweet_count': 15, 'reply_count': 0, 'like_count': 0, 'quote_count': 0}\n",
      "\n",
      "RT @NHLBruins: Pike Place, Pearl Jam, Tom Hanks, and that \"building thing\"\n",
      "\n",
      "The boys kind of know a thing or two about Seattle...\n",
      "\n",
      "#NHLBrui…\n",
      "{'retweet_count': 15, 'reply_count': 0, 'like_count': 0, 'quote_count': 0}\n",
      "\n",
      "RT @FJAthletics: Your Crusader Bowling team advances to the CHIP with a narrow victory over LaSalle. Championship will take place on Saturd…\n",
      "{'retweet_count': 7, 'reply_count': 0, 'like_count': 0, 'quote_count': 0}\n",
      "\n",
      "@IronGavel @moose57579 @BrandiKruse @pike_place https://t.co/a2vOmYaYbw\n",
      "{'retweet_count': 0, 'reply_count': 0, 'like_count': 0, 'quote_count': 0}\n",
      "\n",
      "@IronGavel @moose57579 @BrandiKruse @pike_place Mmmmmm Seattle..... makes me want to come visit. https://t.co/9pQUbTurDl\n",
      "{'retweet_count': 0, 'reply_count': 0, 'like_count': 0, 'quote_count': 0}\n",
      "\n",
      "RT @publicwritesea: Spot #54: tables off Western Ave in Pike Place Market. View of the Great Wheel and the Olympics, lots of sun (if it’s o…\n",
      "{'retweet_count': 1, 'reply_count': 0, 'like_count': 0, 'quote_count': 0}\n",
      "\n",
      "RT @NHLBruins: Pike Place, Pearl Jam, Tom Hanks, and that \"building thing\"\n",
      "\n",
      "The boys kind of know a thing or two about Seattle...\n",
      "\n",
      "#NHLBrui…\n",
      "{'retweet_count': 15, 'reply_count': 0, 'like_count': 0, 'quote_count': 0}\n",
      "\n",
      "RT @FJAthletics: Your Crusader Bowling team advances to the CHIP with a narrow victory over LaSalle. Championship will take place on Saturd…\n",
      "{'retweet_count': 7, 'reply_count': 0, 'like_count': 0, 'quote_count': 0}\n",
      "\n",
      "Spot #54: tables off Western Ave in Pike Place Market. View of the Great Wheel and the Olympics, lots of sun (if it’s out!). #seattle #WritingCommunity #writing #publicspace #writers #pikeplacemarket https://t.co/yntGinTmq1\n",
      "{'retweet_count': 1, 'reply_count': 1, 'like_count': 3, 'quote_count': 0}\n",
      "\n"
     ]
    }
   ],
   "source": [
    "query = \"pike place\"\n",
    "\n",
    "pike_tweets = client.search_recent_tweets(query=query).data\n",
    "#print(weather_tweets)\n",
    "\n",
    "for tweet in pike_tweets:\n",
    "    print(tweet.text)\n",
    "    tweet_id = tweet.id\n",
    "    metrics = get_tweet_metrics(tweet_id)\n",
    "    print(metrics)\n",
    "    print()"
   ]
  },
  {
   "cell_type": "markdown",
   "id": "50dac790-d9b4-4e33-93bd-cbff15901467",
   "metadata": {},
   "source": [
    "#### 5. Write a function that takes in a tweet ID and returns \"trending\" if it has more than 10 replies, ELSE it returns \"stagnant\"."
   ]
  },
  {
   "cell_type": "code",
   "execution_count": 7,
   "id": "f0987bb4-51ba-47f9-8927-4d94a22d05eb",
   "metadata": {},
   "outputs": [],
   "source": [
    "def trend_machine(tweet_ID):\n",
    "    metrics = get_tweet_metrics(tweet_ID)\n",
    "    if metrics['reply_count'] > 10:\n",
    "        return \"trending\"\n",
    "    else:\n",
    "        return \"stagnant\""
   ]
  },
  {
   "cell_type": "markdown",
   "id": "c9904660-2ae4-4a05-a87f-b21ff02a9e15",
   "metadata": {},
   "source": [
    "#### 6. Call the function with a tweet ID of your chioce."
   ]
  },
  {
   "cell_type": "code",
   "execution_count": 8,
   "id": "0891a5bd-0072-43a9-af6b-afc7f8b14a30",
   "metadata": {},
   "outputs": [
    {
     "data": {
      "text/plain": [
       "'trending'"
      ]
     },
     "execution_count": 8,
     "metadata": {},
     "output_type": "execute_result"
    }
   ],
   "source": [
    "tweet_id = 1234\n",
    "trend_machine(tweet_id)"
   ]
  },
  {
   "cell_type": "markdown",
   "id": "2f9b0a6a-4ae5-4080-afeb-723753beb07c",
   "metadata": {},
   "source": [
    "## Practice with recursion"
   ]
  },
  {
   "cell_type": "markdown",
   "id": "02dfb1a7-5f41-474f-9858-0a72dc39ca6e",
   "metadata": {},
   "source": [
    "First we'll create a simplified tweet and reply structure like was demoed in lecture 14, though this time we'll include username information for each tweet."
   ]
  },
  {
   "cell_type": "code",
   "execution_count": 9,
   "id": "61d29299-d3c3-4f54-a14a-3a6199b72880",
   "metadata": {},
   "outputs": [
    {
     "data": {
      "text/plain": [
       "{'text': 'That last exam in sure was hard!',\n",
       " 'username': 'Emma',\n",
       " 'replies': [{'text': 'It sure was hard, what score did you get? ',\n",
       "   'username': 'Fatima',\n",
       "   'replies': [{'text': 'I got a 67% :(', 'username': 'Kwesi', 'replies': []},\n",
       "    {'text': 'I got a 73%', 'username': 'Ying', 'replies': []}]},\n",
       "  {'text': \"I didn't think it was that bad\",\n",
       "   'username': 'Maria',\n",
       "   'replies': [{'text': 'how was that not a super hard exam?',\n",
       "     'username': 'Dmitri',\n",
       "     'replies': []},\n",
       "    {'text': \"of course you didn't\",\n",
       "     'username': 'Emma',\n",
       "     'replies': [{'text': \"what's that supposed to mean?\",\n",
       "       'username': 'Maria',\n",
       "       'replies': [{'text': \"you're an overacheiver\",\n",
       "         'username': 'Emma',\n",
       "         'replies': [{'text': \"and that's bad how?\",\n",
       "           'username': 'Maria',\n",
       "           'replies': []}]}]}]}]}]}"
      ]
     },
     "metadata": {},
     "output_type": "display_data"
    }
   ],
   "source": [
    "# run this code block\n",
    "tweet_about_exam = {\n",
    "    'text': 'That last exam in sure was hard!',\n",
    "    'username': 'Emma',\n",
    "    'replies':[{\n",
    "        'text': 'It sure was hard, what score did you get? ',\n",
    "        'username': 'Fatima',\n",
    "        'replies': [{\n",
    "            'text': 'I got a 67% :(',\n",
    "            'username': 'Kwesi',\n",
    "            'replies': []\n",
    "        },{\n",
    "            'text': 'I got a 73%',\n",
    "            'username': 'Ying',\n",
    "            'replies': []\n",
    "        }]\n",
    "    }, {\n",
    "        'text': 'I didn\\'t think it was that bad',\n",
    "        'username': 'Maria',\n",
    "        'replies': [{\n",
    "            'text': 'how was that not a super hard exam?',\n",
    "            'username': 'Dmitri',\n",
    "            'replies': []\n",
    "        }, {\n",
    "            'text': 'of course you didn\\'t',\n",
    "            'username': 'Emma',\n",
    "            'replies': [{\n",
    "                'text': 'what\\'s that supposed to mean?',\n",
    "                'username': 'Maria',\n",
    "                'replies': [{\n",
    "                    'text': 'you\\'re an overacheiver',\n",
    "                    'username': 'Emma',\n",
    "                    'replies': [{\n",
    "                        'text': 'and that\\'s bad how?',\n",
    "                        'username': 'Maria',\n",
    "                        'replies': []\n",
    "                    }]\n",
    "                }]\n",
    "            }]\n",
    "        }]\n",
    "    }]\n",
    "}\n",
    "\n",
    "display(tweet_about_exam)"
   ]
  },
  {
   "cell_type": "markdown",
   "id": "087a1fa4-7e57-4b2d-acf4-84e1a537ca48",
   "metadata": {},
   "source": [
    "### This is the code form lecture 14 to print tweets and replies"
   ]
  },
  {
   "cell_type": "code",
   "execution_count": 10,
   "id": "278f906e-9abe-4aae-8e11-b85a3d9d82c0",
   "metadata": {},
   "outputs": [
    {
     "name": "stdout",
     "output_type": "stream",
     "text": [
      "-That last exam in sure was hard!\n",
      "   -It sure was hard, what score did you get? \n",
      "      -I got a 67% :(\n",
      "      -I got a 73%\n",
      "   -I didn't think it was that bad\n",
      "      -how was that not a super hard exam?\n",
      "      -of course you didn't\n",
      "         -what's that supposed to mean?\n",
      "            -you're an overacheiver\n",
      "               -and that's bad how?\n"
     ]
    }
   ],
   "source": [
    "# try running this code block\n",
    "def print_tweet_and_replies(tweet, num_indents=0):\n",
    "    # print indent first\n",
    "    for i in range(num_indents):\n",
    "        print('   ', end='')\n",
    "        \n",
    "    # print tweet\n",
    "    print('-' + tweet['text'])\n",
    "    \n",
    "    #print replies (and the replies of those, etc.)\n",
    "    for reply in tweet['replies']:\n",
    "        print_tweet_and_replies(reply, num_indents = num_indents + 1)\n",
    "\n",
    "print_tweet_and_replies(tweet_about_exam)"
   ]
  },
  {
   "cell_type": "markdown",
   "id": "c3f231cc-e7fc-412c-8eb7-6798aec9671d",
   "metadata": {
    "tags": []
   },
   "source": [
    "### 7. Your turn: Make a copy of the code above and modify it so it also prints out the username of who made the tweet. Your output should have this exact structure:\n",
    "\n",
    "```\n",
    "\"That last exam in sure was hard!\"\n",
    "        -Emma\n",
    "   \"It sure was hard, what score did you get?\"\n",
    "           -Fatima\n",
    "   ...\n",
    "```"
   ]
  },
  {
   "cell_type": "code",
   "execution_count": 11,
   "id": "fd9775ae-ed09-4371-8b28-bf4b43d66a16",
   "metadata": {},
   "outputs": [
    {
     "name": "stdout",
     "output_type": "stream",
     "text": [
      "\"That last exam in sure was hard!\"\n",
      "        -Emma\n",
      "   \"It sure was hard, what score did you get? \"\n",
      "           -Fatima\n",
      "      \"I got a 67% :(\"\n",
      "              -Kwesi\n",
      "      \"I got a 73%\"\n",
      "              -Ying\n",
      "   \"I didn't think it was that bad\"\n",
      "           -Maria\n",
      "      \"how was that not a super hard exam?\"\n",
      "              -Dmitri\n",
      "      \"of course you didn't\"\n",
      "              -Emma\n",
      "         \"what's that supposed to mean?\"\n",
      "                 -Maria\n",
      "            \"you're an overacheiver\"\n",
      "                    -Emma\n",
      "               \"and that's bad how?\"\n",
      "                       -Maria\n"
     ]
    }
   ],
   "source": [
    "def print_tweet_and_replies(tweet, num_indents=0):\n",
    "    # print indent first\n",
    "    for i in range(num_indents):\n",
    "        print('   ', end='')\n",
    "        \n",
    "    # print tweet\n",
    "    print('\"' + tweet['text'] + '\"')\n",
    "    \n",
    "    # print indent before usernmae\n",
    "    for i in range(num_indents):\n",
    "        print('   ', end='')\n",
    "    \n",
    "    #print useraname\n",
    "    print('        -' + tweet['username'])\n",
    "    \n",
    "    #print replies (and the replies of those, etc.)\n",
    "    for reply in tweet['replies']:\n",
    "        print_tweet_and_replies(reply, num_indents = num_indents + 1)\n",
    "\n",
    "print_tweet_and_replies(tweet_about_exam)"
   ]
  },
  {
   "cell_type": "markdown",
   "id": "12032a18-e1d3-4cd8-a712-dbdb94876272",
   "metadata": {},
   "source": [
    "#### 8. Now, make a copy of your code from the previous question and modify it to only print out the tweet / username only if the length of the tweet is greater than 25."
   ]
  },
  {
   "cell_type": "code",
   "execution_count": 12,
   "id": "efb3b561-5d19-4dac-879e-077b3d71e909",
   "metadata": {},
   "outputs": [
    {
     "name": "stdout",
     "output_type": "stream",
     "text": [
      "\"That last exam in sure was hard!\"\n",
      "        -Emma\n",
      "   \"It sure was hard, what score did you get? \"\n",
      "           -Fatima\n",
      "   \"I didn't think it was that bad\"\n",
      "           -Maria\n",
      "      \"how was that not a super hard exam?\"\n",
      "              -Dmitri\n"
     ]
    }
   ],
   "source": [
    "def print_tweet_and_replies(tweet, num_indents=0):\n",
    "    length = len(tweet['text'])\n",
    "    \n",
    "    if length > 25:\n",
    "        # print indent first\n",
    "        for i in range(num_indents):\n",
    "            print('   ', end='')\n",
    "\n",
    "        # print tweet\n",
    "        print('\"' + tweet['text'] + '\"')\n",
    "\n",
    "        # print indent before usernmae\n",
    "        for i in range(num_indents):\n",
    "            print('   ', end='')\n",
    "\n",
    "        #print useraname\n",
    "        print('        -' + tweet['username'])\n",
    "\n",
    "        #print replies (and the replies of those, etc.)\n",
    "        for reply in tweet['replies']:\n",
    "            print_tweet_and_replies(reply, num_indents = num_indents + 1)\n",
    "\n",
    "print_tweet_and_replies(tweet_about_exam)"
   ]
  }
 ],
 "metadata": {
  "kernelspec": {
   "display_name": "Python 3 (ipykernel)",
   "language": "python",
   "name": "python3"
  },
  "language_info": {
   "codemirror_mode": {
    "name": "ipython",
    "version": 3
   },
   "file_extension": ".py",
   "mimetype": "text/x-python",
   "name": "python",
   "nbconvert_exporter": "python",
   "pygments_lexer": "ipython3",
   "version": "3.10.4"
  }
 },
 "nbformat": 4,
 "nbformat_minor": 5
}
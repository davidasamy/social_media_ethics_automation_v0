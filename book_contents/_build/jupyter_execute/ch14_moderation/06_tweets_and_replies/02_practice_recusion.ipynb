{
 "cells": [
  {
   "cell_type": "markdown",
   "id": "708ff3e9-f84c-4631-8297-493da4da76dc",
   "metadata": {},
   "source": [
    "# Lab: Recursion"
   ]
  },
  {
   "cell_type": "markdown",
   "id": "61dcb860-55c7-4d4e-9bc9-7630b42124aa",
   "metadata": {},
   "source": [
    "## Twitter Practice"
   ]
  },
  {
   "cell_type": "markdown",
   "id": "e1806b73-1393-4792-8f51-1a2c0f7405c0",
   "metadata": {},
   "source": [
    "#### Normal set up: run the following code block"
   ]
  },
  {
   "cell_type": "code",
   "execution_count": 1,
   "id": "1a3bee5c-fb68-4daf-9bee-72d34bb53cb6",
   "metadata": {
    "tags": []
   },
   "outputs": [
    {
     "name": "stdout",
     "output_type": "stream",
     "text": [
      "Collecting lckr-jupyterlab-variableinspector\n",
      "  Using cached lckr_jupyterlab_variableinspector-3.0.9.tar.gz (60 kB)\n",
      "  Installing build dependencies: started\n",
      "  Installing build dependencies: finished with status 'error'\n",
      "\n",
      "[notice] A new release of pip available: 22.1.2 -> 22.3\n",
      "[notice] To update, run: python.exe -m pip install --upgrade pip\n"
     ]
    },
    {
     "name": "stderr",
     "output_type": "stream",
     "text": [
      "WARNING: Ignoring invalid distribution -ip (c:\\python310\\lib\\site-packages)\n",
      "WARNING: Ignoring invalid distribution -ip (c:\\python310\\lib\\site-packages)\n",
      "  error: subprocess-exited-with-error\n",
      "  \n",
      "  pip subprocess to install build dependencies did not run successfully.\n",
      "  exit code: 1\n",
      "  \n",
      "  [236 lines of output]\n",
      "  WARNING: Ignoring invalid distribution -ip (c:\\python310\\lib\\site-packages)\n",
      "  Collecting jupyter_packaging~=0.7.9\n",
      "    Using cached jupyter_packaging-0.7.12-py2.py3-none-any.whl (10 kB)\n",
      "  Collecting jupyterlab==3.*,>=3.0.0rc13\n",
      "    Using cached jupyterlab-3.6.0a2-py3-none-any.whl (8.8 MB)\n",
      "  Collecting setuptools>=40.8.0\n",
      "    Using cached setuptools-65.5.1-py3-none-any.whl (1.2 MB)\n",
      "  Collecting wheel\n",
      "    Using cached wheel-0.38.2-py3-none-any.whl (36 kB)\n",
      "  Collecting tornado>=6.1.0\n",
      "    Using cached tornado-6.2-cp37-abi3-win_amd64.whl (425 kB)\n",
      "  Collecting ipython\n",
      "    Using cached ipython-8.6.0-py3-none-any.whl (761 kB)\n",
      "  Collecting notebook<7\n",
      "    Using cached notebook-6.5.2-py3-none-any.whl (439 kB)\n",
      "  Collecting jupyter-core\n",
      "    Using cached jupyter_core-4.11.2-py3-none-any.whl (88 kB)\n",
      "  Collecting jinja2>=2.1\n",
      "    Using cached Jinja2-3.1.2-py3-none-any.whl (133 kB)\n",
      "  Collecting packaging\n",
      "    Using cached packaging-21.3-py3-none-any.whl (40 kB)\n",
      "  Collecting jupyter-server-ydoc<0.2.0,>=0.1.14\n",
      "    Using cached jupyter_server_ydoc-0.1.14-py3-none-any.whl (9.4 kB)\n",
      "  Collecting jupyterlab-server~=2.10\n",
      "    Using cached jupyterlab_server-2.16.2-py3-none-any.whl (54 kB)\n",
      "  Collecting nbclassic\n",
      "    Using cached nbclassic-0.4.8-py3-none-any.whl (9.8 MB)\n",
      "  Collecting tomli\n",
      "    Using cached tomli-2.0.1-py3-none-any.whl (12 kB)\n",
      "  Collecting jupyter-server<3,>=1.16.0\n",
      "    Using cached jupyter_server-1.23.0-py3-none-any.whl (346 kB)\n",
      "  Collecting jupyter-ydoc<0.3.0,>=0.2.2\n",
      "    Using cached jupyter_ydoc-0.2.2-py3-none-any.whl (5.6 kB)\n",
      "  Collecting MarkupSafe>=2.0\n",
      "    Using cached MarkupSafe-2.1.1-cp310-cp310-win_amd64.whl (17 kB)\n",
      "  Collecting websocket-client\n",
      "    Using cached websocket_client-1.4.2-py3-none-any.whl (55 kB)\n",
      "  Collecting jupyter-client>=6.1.12\n",
      "    Using cached jupyter_client-7.4.4-py3-none-any.whl (132 kB)\n",
      "  Collecting nbformat>=5.2.0\n",
      "    Using cached nbformat-5.7.0-py3-none-any.whl (77 kB)\n",
      "  Collecting traitlets>=5.1\n",
      "    Using cached traitlets-5.5.0-py3-none-any.whl (107 kB)\n",
      "  Collecting pywinpty\n",
      "    Using cached pywinpty-2.0.9-cp310-none-win_amd64.whl (1.4 MB)\n",
      "  Collecting anyio<4,>=3.1.0\n",
      "    Using cached anyio-3.6.2-py3-none-any.whl (80 kB)\n",
      "  Collecting Send2Trash\n",
      "    Using cached Send2Trash-1.8.0-py3-none-any.whl (18 kB)\n",
      "  Collecting nbconvert>=6.4.4\n",
      "    Using cached nbconvert-7.2.3-py3-none-any.whl (273 kB)\n",
      "  Collecting argon2-cffi\n",
      "    Using cached argon2_cffi-21.3.0-py3-none-any.whl (14 kB)\n",
      "  Collecting terminado>=0.8.3\n",
      "    Using cached terminado-0.17.0-py3-none-any.whl (16 kB)\n",
      "  Collecting prometheus-client\n",
      "    Using cached prometheus_client-0.15.0-py3-none-any.whl (60 kB)\n",
      "  Collecting pyzmq>=17\n",
      "    Using cached pyzmq-24.0.1-cp310-cp310-win_amd64.whl (992 kB)\n",
      "  Collecting pywin32>=1.0\n",
      "    Using cached pywin32-305-cp310-cp310-win_amd64.whl (12.1 MB)\n",
      "  Collecting ypy-websocket<0.4.0,>=0.3.2\n",
      "    Using cached ypy_websocket-0.3.2-py2.py3-none-any.whl (9.5 kB)\n",
      "  Collecting y-py<0.6.0,>=0.5.3\n",
      "    Using cached y_py-0.5.4-cp310-none-win_amd64.whl (562 kB)\n",
      "  Collecting json5\n",
      "    Using cached json5-0.9.10-py2.py3-none-any.whl (19 kB)\n",
      "  Collecting jsonschema>=3.0.1\n",
      "    Using cached jsonschema-4.17.0-py3-none-any.whl (83 kB)\n",
      "  Collecting babel\n",
      "    Using cached Babel-2.11.0-py3-none-any.whl (9.5 MB)\n",
      "  Collecting requests\n",
      "    Using cached requests-2.28.1-py3-none-any.whl (62 kB)\n",
      "  Collecting nest-asyncio>=1.5\n",
      "    Using cached nest_asyncio-1.5.6-py3-none-any.whl (5.2 kB)\n",
      "  Collecting ipykernel\n",
      "    Using cached ipykernel-6.17.0-py3-none-any.whl (138 kB)\n",
      "  Collecting ipython-genutils\n",
      "    Using cached ipython_genutils-0.2.0-py2.py3-none-any.whl (26 kB)\n",
      "  Collecting notebook-shim>=0.1.0\n",
      "    Using cached notebook_shim-0.2.2-py3-none-any.whl (13 kB)\n",
      "  Collecting pickleshare\n",
      "    Using cached pickleshare-0.7.5-py2.py3-none-any.whl (6.9 kB)\n",
      "  Collecting colorama\n",
      "    Using cached colorama-0.4.6-py2.py3-none-any.whl (25 kB)\n",
      "  Collecting pygments>=2.4.0\n",
      "    Using cached Pygments-2.13.0-py3-none-any.whl (1.1 MB)\n",
      "  Collecting backcall\n",
      "    Using cached backcall-0.2.0-py2.py3-none-any.whl (11 kB)\n",
      "  Collecting stack-data\n",
      "    Using cached stack_data-0.6.0-py3-none-any.whl (24 kB)\n",
      "  Collecting decorator\n",
      "    Using cached decorator-5.1.1-py3-none-any.whl (9.1 kB)\n",
      "  Collecting prompt-toolkit<3.1.0,>3.0.1\n",
      "    Using cached prompt_toolkit-3.0.32-py3-none-any.whl (382 kB)\n",
      "  Collecting jedi>=0.16\n",
      "    Using cached jedi-0.18.1-py2.py3-none-any.whl (1.6 MB)\n",
      "  Collecting matplotlib-inline\n",
      "    Using cached matplotlib_inline-0.1.6-py3-none-any.whl (9.4 kB)\n",
      "  Collecting pyparsing!=3.0.5,>=2.0.2\n",
      "    Using cached pyparsing-3.0.9-py3-none-any.whl (98 kB)\n",
      "  Collecting sniffio>=1.1\n",
      "    Using cached sniffio-1.3.0-py3-none-any.whl (10 kB)\n",
      "  Collecting idna>=2.8\n",
      "    Using cached idna-3.4-py3-none-any.whl (61 kB)\n",
      "  Collecting parso<0.9.0,>=0.8.0\n",
      "    Using cached parso-0.8.3-py2.py3-none-any.whl (100 kB)\n",
      "  Collecting attrs>=17.4.0\n",
      "    Using cached attrs-22.1.0-py2.py3-none-any.whl (58 kB)\n",
      "  Collecting pyrsistent!=0.17.0,!=0.17.1,!=0.17.2,>=0.14.0\n",
      "    Using cached pyrsistent-0.19.2-cp310-cp310-win_amd64.whl (62 kB)\n",
      "  Collecting python-dateutil>=2.8.2\n",
      "    Using cached python_dateutil-2.8.2-py2.py3-none-any.whl (247 kB)\n",
      "  Collecting entrypoints\n",
      "    Using cached entrypoints-0.4-py3-none-any.whl (5.3 kB)\n",
      "  Collecting pandocfilters>=1.4.1\n",
      "    Using cached pandocfilters-1.5.0-py2.py3-none-any.whl (8.7 kB)\n",
      "  Collecting defusedxml\n",
      "    Using cached defusedxml-0.7.1-py2.py3-none-any.whl (25 kB)\n",
      "  Collecting jupyterlab-pygments\n",
      "    Using cached jupyterlab_pygments-0.2.2-py2.py3-none-any.whl (21 kB)\n",
      "  Collecting mistune<3,>=2.0.3\n",
      "    Using cached mistune-2.0.4-py2.py3-none-any.whl (24 kB)\n",
      "  Collecting beautifulsoup4\n",
      "    Using cached beautifulsoup4-4.11.1-py3-none-any.whl (128 kB)\n",
      "  Collecting bleach\n",
      "    Using cached bleach-5.0.1-py3-none-any.whl (160 kB)\n",
      "  Collecting nbclient>=0.5.0\n",
      "    Using cached nbclient-0.7.0-py3-none-any.whl (71 kB)\n",
      "  Collecting tinycss2\n",
      "    Using cached tinycss2-1.2.1-py3-none-any.whl (21 kB)\n",
      "  Collecting fastjsonschema\n",
      "    Using cached fastjsonschema-2.16.2-py3-none-any.whl (22 kB)\n",
      "  Collecting wcwidth\n",
      "    Using cached wcwidth-0.2.5-py2.py3-none-any.whl (30 kB)\n",
      "  Collecting aiosqlite<1,>=0.17.0\n",
      "    Using cached aiosqlite-0.17.0-py3-none-any.whl (15 kB)\n",
      "  Collecting aiofiles<1,>=0.8.0\n",
      "    Using cached aiofiles-0.8.0-py3-none-any.whl (13 kB)\n",
      "  Collecting argon2-cffi-bindings\n",
      "    Using cached argon2_cffi_bindings-21.2.0-cp36-abi3-win_amd64.whl (30 kB)\n",
      "  Collecting pytz>=2015.7\n",
      "    Using cached pytz-2022.6-py2.py3-none-any.whl (498 kB)\n",
      "  Collecting psutil\n",
      "    Using cached psutil-5.9.4.tar.gz (485 kB)\n",
      "    Installing build dependencies: started\n",
      "    Installing build dependencies: finished with status 'done'\n",
      "    Getting requirements to build wheel: started\n",
      "    Getting requirements to build wheel: finished with status 'done'\n",
      "    Preparing metadata (pyproject.toml): started\n",
      "    Preparing metadata (pyproject.toml): finished with status 'done'\n",
      "  Collecting debugpy>=1.0\n",
      "    Using cached debugpy-1.6.3-cp310-cp310-win_amd64.whl (4.6 MB)\n",
      "  Collecting certifi>=2017.4.17\n",
      "    Using cached certifi-2022.9.24-py3-none-any.whl (161 kB)\n",
      "  Collecting urllib3<1.27,>=1.21.1\n",
      "    Using cached urllib3-1.26.12-py2.py3-none-any.whl (140 kB)\n",
      "  Collecting charset-normalizer<3,>=2\n",
      "    Using cached charset_normalizer-2.1.1-py3-none-any.whl (39 kB)\n",
      "  Collecting pure-eval\n",
      "    Using cached pure_eval-0.2.2-py3-none-any.whl (11 kB)\n",
      "  Collecting executing>=1.2.0\n",
      "    Using cached executing-1.2.0-py2.py3-none-any.whl (24 kB)\n",
      "  Collecting asttokens>=2.1.0\n",
      "    Using cached asttokens-2.1.0-py2.py3-none-any.whl (26 kB)\n",
      "  Collecting typing_extensions>=3.7.2\n",
      "    Using cached typing_extensions-4.4.0-py3-none-any.whl (26 kB)\n",
      "  Collecting six\n",
      "    Using cached six-1.16.0-py2.py3-none-any.whl (11 kB)\n",
      "  Collecting cffi>=1.0.1\n",
      "    Using cached cffi-1.15.1-cp310-cp310-win_amd64.whl (179 kB)\n",
      "  Collecting soupsieve>1.2\n",
      "    Using cached soupsieve-2.3.2.post1-py3-none-any.whl (37 kB)\n",
      "  Collecting webencodings\n",
      "    Using cached webencodings-0.5.1-py2.py3-none-any.whl (11 kB)\n",
      "  Collecting pycparser\n",
      "    Using cached pycparser-2.21-py2.py3-none-any.whl (118 kB)\n",
      "  Building wheels for collected packages: psutil\n",
      "    Building wheel for psutil (pyproject.toml): started\n",
      "    Building wheel for psutil (pyproject.toml): finished with status 'error'\n",
      "    error: subprocess-exited-with-error\n",
      "  \n",
      "    Building wheel for psutil (pyproject.toml) did not run successfully.\n",
      "    exit code: 1\n",
      "  \n",
      "    [38 lines of output]\n",
      "    running bdist_wheel\n",
      "    running build\n",
      "    running build_py\n",
      "    creating build\n",
      "    creating build\\lib.win-amd64-cpython-310\n",
      "    creating build\\lib.win-amd64-cpython-310\\psutil\n",
      "    copying psutil\\_common.py -> build\\lib.win-amd64-cpython-310\\psutil\n",
      "    copying psutil\\_compat.py -> build\\lib.win-amd64-cpython-310\\psutil\n",
      "    copying psutil\\_psaix.py -> build\\lib.win-amd64-cpython-310\\psutil\n",
      "    copying psutil\\_psbsd.py -> build\\lib.win-amd64-cpython-310\\psutil\n",
      "    copying psutil\\_pslinux.py -> build\\lib.win-amd64-cpython-310\\psutil\n",
      "    copying psutil\\_psosx.py -> build\\lib.win-amd64-cpython-310\\psutil\n",
      "    copying psutil\\_psposix.py -> build\\lib.win-amd64-cpython-310\\psutil\n",
      "    copying psutil\\_pssunos.py -> build\\lib.win-amd64-cpython-310\\psutil\n",
      "    copying psutil\\_pswindows.py -> build\\lib.win-amd64-cpython-310\\psutil\n",
      "    copying psutil\\__init__.py -> build\\lib.win-amd64-cpython-310\\psutil\n",
      "    creating build\\lib.win-amd64-cpython-310\\psutil\\tests\n",
      "    copying psutil\\tests\\runner.py -> build\\lib.win-amd64-cpython-310\\psutil\\tests\n",
      "    copying psutil\\tests\\test_aix.py -> build\\lib.win-amd64-cpython-310\\psutil\\tests\n",
      "    copying psutil\\tests\\test_bsd.py -> build\\lib.win-amd64-cpython-310\\psutil\\tests\n",
      "    copying psutil\\tests\\test_connections.py -> build\\lib.win-amd64-cpython-310\\psutil\\tests\n",
      "    copying psutil\\tests\\test_contracts.py -> build\\lib.win-amd64-cpython-310\\psutil\\tests\n",
      "    copying psutil\\tests\\test_linux.py -> build\\lib.win-amd64-cpython-310\\psutil\\tests\n",
      "    copying psutil\\tests\\test_memleaks.py -> build\\lib.win-amd64-cpython-310\\psutil\\tests\n",
      "    copying psutil\\tests\\test_misc.py -> build\\lib.win-amd64-cpython-310\\psutil\\tests\n",
      "    copying psutil\\tests\\test_osx.py -> build\\lib.win-amd64-cpython-310\\psutil\\tests\n",
      "    copying psutil\\tests\\test_posix.py -> build\\lib.win-amd64-cpython-310\\psutil\\tests\n",
      "    copying psutil\\tests\\test_process.py -> build\\lib.win-amd64-cpython-310\\psutil\\tests\n",
      "    copying psutil\\tests\\test_sunos.py -> build\\lib.win-amd64-cpython-310\\psutil\\tests\n",
      "    copying psutil\\tests\\test_system.py -> build\\lib.win-amd64-cpython-310\\psutil\\tests\n",
      "    copying psutil\\tests\\test_testutils.py -> build\\lib.win-amd64-cpython-310\\psutil\\tests\n",
      "    copying psutil\\tests\\test_unicode.py -> build\\lib.win-amd64-cpython-310\\psutil\\tests\n",
      "    copying psutil\\tests\\test_windows.py -> build\\lib.win-amd64-cpython-310\\psutil\\tests\n",
      "    copying psutil\\tests\\__init__.py -> build\\lib.win-amd64-cpython-310\\psutil\\tests\n",
      "    copying psutil\\tests\\__main__.py -> build\\lib.win-amd64-cpython-310\\psutil\\tests\n",
      "    running build_ext\n",
      "    building 'psutil._psutil_windows' extension\n",
      "    error: Microsoft Visual C++ 14.0 or greater is required. Get it with \"Microsoft C++ Build Tools\": https://visualstudio.microsoft.com/visual-cpp-build-tools/\n",
      "    [end of output]\n",
      "  \n",
      "    note: This error originates from a subprocess, and is likely not a problem with pip.\n",
      "    ERROR: Failed building wheel for psutil\n",
      "  Failed to build psutil\n",
      "  ERROR: Could not build wheels for psutil, which is required to install pyproject.toml-based projects\n",
      "  WARNING: Ignoring invalid distribution -ip (c:\\python310\\lib\\site-packages)\n",
      "  WARNING: Ignoring invalid distribution -ip (c:\\python310\\lib\\site-packages)\n",
      "  WARNING: Ignoring invalid distribution -ip (c:\\python310\\lib\\site-packages)\n",
      "  \n",
      "  [notice] A new release of pip available: 22.1.2 -> 22.3\n",
      "  [notice] To update, run: python.exe -m pip install --upgrade pip\n",
      "  [end of output]\n",
      "  \n",
      "  note: This error originates from a subprocess, and is likely not a problem with pip.\n",
      "error: subprocess-exited-with-error\n",
      "\n",
      "pip subprocess to install build dependencies did not run successfully.\n",
      "exit code: 1\n",
      "\n",
      "See above for output.\n",
      "\n",
      "note: This error originates from a subprocess, and is likely not a problem with pip.\n",
      "WARNING: Ignoring invalid distribution -ip (c:\\python310\\lib\\site-packages)\n",
      "WARNING: Ignoring invalid distribution -ip (c:\\python310\\lib\\site-packages)\n",
      "WARNING: Ignoring invalid distribution -ip (c:\\python310\\lib\\site-packages)\n"
     ]
    },
    {
     "name": "stderr",
     "output_type": "stream",
     "text": [
      "WARNING: Ignoring invalid distribution -ip (c:\\python310\\lib\\site-packages)\n",
      "WARNING: Ignoring invalid distribution -ip (c:\\python310\\lib\\site-packages)\n",
      "WARNING: Ignoring invalid distribution -ip (c:\\python310\\lib\\site-packages)\n",
      "WARNING: Ignoring invalid distribution -ip (c:\\python310\\lib\\site-packages)\n",
      "WARNING: Ignoring invalid distribution -ip (c:\\python310\\lib\\site-packages)\n",
      "WARNING: Ignoring invalid distribution -ip (c:\\python310\\lib\\site-packages)\n"
     ]
    },
    {
     "name": "stdout",
     "output_type": "stream",
     "text": [
      "Requirement already satisfied: tweepy in c:\\python310\\lib\\site-packages (4.10.0)\n",
      "Requirement already satisfied: oauthlib<4,>=3.2.0 in c:\\python310\\lib\\site-packages (from tweepy) (3.2.0)\n",
      "Requirement already satisfied: requests-oauthlib<2,>=1.2.0 in c:\\python310\\lib\\site-packages (from tweepy) (1.3.1)\n",
      "Requirement already satisfied: requests<3,>=2.27.0 in c:\\python310\\lib\\site-packages (from tweepy) (2.27.1)\n",
      "Requirement already satisfied: urllib3<1.27,>=1.21.1 in c:\\python310\\lib\\site-packages (from requests<3,>=2.27.0->tweepy) (1.26.9)\n",
      "Requirement already satisfied: idna<4,>=2.5 in c:\\python310\\lib\\site-packages (from requests<3,>=2.27.0->tweepy) (3.3)\n",
      "Requirement already satisfied: charset-normalizer~=2.0.0 in c:\\python310\\lib\\site-packages (from requests<3,>=2.27.0->tweepy) (2.0.12)\n",
      "Requirement already satisfied: certifi>=2017.4.17 in c:\\python310\\lib\\site-packages (from requests<3,>=2.27.0->tweepy) (2022.5.18.1)\n",
      "\n",
      "[notice] A new release of pip available: 22.1.2 -> 22.3\n",
      "[notice] To update, run: python.exe -m pip install --upgrade pip\n"
     ]
    },
    {
     "ename": "ModuleNotFoundError",
     "evalue": "No module named 'my_bot_keys'",
     "output_type": "error",
     "traceback": [
      "\u001b[1;31m---------------------------------------------------------------------------\u001b[0m",
      "\u001b[1;31mModuleNotFoundError\u001b[0m                       Traceback (most recent call last)",
      "Input \u001b[1;32mIn [1]\u001b[0m, in \u001b[0;36m<cell line: 9>\u001b[1;34m()\u001b[0m\n\u001b[0;32m      6\u001b[0m \u001b[38;5;28;01mimport\u001b[39;00m \u001b[38;5;21;01mtweepy\u001b[39;00m\n\u001b[0;32m      8\u001b[0m \u001b[38;5;66;03m# load my twitter keys\u001b[39;00m\n\u001b[1;32m----> 9\u001b[0m \u001b[38;5;28;01mimport\u001b[39;00m \u001b[38;5;21;01mmy_bot_keys\u001b[39;00m\n\u001b[0;32m     11\u001b[0m \u001b[38;5;66;03m# log into tweepy\u001b[39;00m\n\u001b[0;32m     12\u001b[0m client \u001b[38;5;241m=\u001b[39m tweepy\u001b[38;5;241m.\u001b[39mClient(\n\u001b[0;32m     13\u001b[0m     bearer_token\u001b[38;5;241m=\u001b[39mmy_bot_keys\u001b[38;5;241m.\u001b[39mbearer_token,\n\u001b[0;32m     14\u001b[0m     consumer_key\u001b[38;5;241m=\u001b[39mmy_bot_keys\u001b[38;5;241m.\u001b[39mconsumer_key, consumer_secret\u001b[38;5;241m=\u001b[39mmy_bot_keys\u001b[38;5;241m.\u001b[39mconsumer_secret,                   \n\u001b[0;32m     15\u001b[0m     access_token\u001b[38;5;241m=\u001b[39mmy_bot_keys\u001b[38;5;241m.\u001b[39maccess_token, access_token_secret\u001b[38;5;241m=\u001b[39mmy_bot_keys\u001b[38;5;241m.\u001b[39maccess_token_secret\n\u001b[0;32m     16\u001b[0m )\n",
      "\u001b[1;31mModuleNotFoundError\u001b[0m: No module named 'my_bot_keys'"
     ]
    }
   ],
   "source": [
    "# Install variable inspector (then reload browser tab)\n",
    "!pip install lckr-jupyterlab-variableinspector\n",
    "\n",
    "# make sure tweepy library is installed\n",
    "!pip install tweepy \n",
    "import tweepy\n",
    "\n",
    "# load my twitter keys\n",
    "import my_bot_keys\n",
    "\n",
    "# log into tweepy\n",
    "client = tweepy.Client(\n",
    "    bearer_token=my_bot_keys.bearer_token,\n",
    "    consumer_key=my_bot_keys.consumer_key, consumer_secret=my_bot_keys.consumer_secret,                   \n",
    "    access_token=my_bot_keys.access_token, access_token_secret=my_bot_keys.access_token_secret\n",
    ")"
   ]
  },
  {
   "cell_type": "markdown",
   "id": "bc5a3e5d-5809-42ef-88e3-6957ca028789",
   "metadata": {},
   "source": [
    "### Getting Tweet Metrics"
   ]
  },
  {
   "cell_type": "markdown",
   "id": "c17c5b63-2b32-401d-b953-d5fcfd78adb4",
   "metadata": {},
   "source": [
    "Tweet metrics represent public information attached to any given tweet. This information incudes retweet count, reply count, like count, and quote count."
   ]
  },
  {
   "cell_type": "markdown",
   "id": "6ac66c8c-8f47-44e3-8626-f9858fc423bc",
   "metadata": {},
   "source": [
    "#### To find the ID of a tweet:\n",
    "\n",
    "The last number section of a tweet url is the ID of the tweet.\n",
    "\n",
    "If you open a tweet on twitter, you can see the url in the menu bar:\n",
    "\n",
    "&nbsp; &nbsp; &nbsp; <img src=\"tweet_url.jpg\" alt=\"the url of a tweet highlighted, with the last number part circled\" width=\"300\" />\n",
    "\n",
    "\n",
    "or you can copy the link to the tweet and you can paste it in your browser to see the url\n",
    "\n",
    "&nbsp; &nbsp; &nbsp; <img src=\"copy_link_to_tweet.jpg\" alt=\"on a tweet the share button is circled and then the copy link to tweet option is circled\" width=\"300\"/>"
   ]
  },
  {
   "cell_type": "markdown",
   "id": "f3b6b619-c564-4ba5-a505-f7111d6925da",
   "metadata": {},
   "source": [
    "#### You can get tweet metrics by specifying \"public_metrics\" in the tweet_fields parameter:"
   ]
  },
  {
   "cell_type": "code",
   "execution_count": null,
   "id": "17220144-bb32-4289-94c2-0b5dc8880417",
   "metadata": {},
   "outputs": [],
   "source": [
    "# This is the structure. Try running this code block:\n",
    "\n",
    "tweet_id = 1130510065289404416\n",
    "\n",
    "tweet_info = client.get_tweet(tweet_id, tweet_fields = \"public_metrics\")\n",
    "\n",
    "tweet_metrics = tweet_info.data.public_metrics\n",
    "\n",
    "print(tweet_metrics)"
   ]
  },
  {
   "cell_type": "markdown",
   "id": "ac035073-9d31-4e61-81a9-cd5168d7e927",
   "metadata": {},
   "source": [
    "#### 1. YOU TRY: Go on twitter and find your favorite tweet. Print the tweet metrics of that tweet using the structure from the example above. \n",
    "\n",
    "#### *NOTE: for this question, you can hard code the tweet ID"
   ]
  },
  {
   "cell_type": "code",
   "execution_count": null,
   "id": "07fcd4bd-6ade-4d17-9ba3-7b31f5b22ed2",
   "metadata": {},
   "outputs": [],
   "source": []
  },
  {
   "cell_type": "markdown",
   "id": "f34e9714-bc01-4146-a632-4352bf099de0",
   "metadata": {},
   "source": [
    "#### 2. Write a function that takes in a tweet ID as a paramter and returns the tweet metrics."
   ]
  },
  {
   "cell_type": "code",
   "execution_count": null,
   "id": "b7b120e7-1963-4dc1-ba4f-67b0c0185384",
   "metadata": {},
   "outputs": [],
   "source": []
  },
  {
   "cell_type": "markdown",
   "id": "6058e256-dd56-4fa5-8ee4-2d617cf363a5",
   "metadata": {},
   "source": [
    "#### 3. Call that function with a tweet ID of your choosing."
   ]
  },
  {
   "cell_type": "code",
   "execution_count": null,
   "id": "6deb45a7-c9d2-446a-bc86-aa2df1c009e1",
   "metadata": {},
   "outputs": [],
   "source": []
  },
  {
   "cell_type": "markdown",
   "id": "d858d895-903e-4227-b4f5-e8b67e8a7968",
   "metadata": {},
   "source": [
    "#### 4. Search for recent tweets with the query \"pike place\" and save the list in the variable `pike_tweets`. Loop through the `pike_tweets` & print the text and the metrics of each tweet."
   ]
  },
  {
   "cell_type": "code",
   "execution_count": null,
   "id": "f8a17261-b554-45f7-a5ad-b917d279d537",
   "metadata": {},
   "outputs": [],
   "source": []
  },
  {
   "cell_type": "markdown",
   "id": "50dac790-d9b4-4e33-93bd-cbff15901467",
   "metadata": {},
   "source": [
    "#### 5. Write a function that takes in a tweet ID and returns \"trending\" if it has more than 10 replies, ELSE it returns \"stagnant\"."
   ]
  },
  {
   "cell_type": "code",
   "execution_count": null,
   "id": "f0987bb4-51ba-47f9-8927-4d94a22d05eb",
   "metadata": {},
   "outputs": [],
   "source": []
  },
  {
   "cell_type": "markdown",
   "id": "c9904660-2ae4-4a05-a87f-b21ff02a9e15",
   "metadata": {},
   "source": [
    "#### 6. Call the function with a tweet ID of your chioce."
   ]
  },
  {
   "cell_type": "code",
   "execution_count": null,
   "id": "0891a5bd-0072-43a9-af6b-afc7f8b14a30",
   "metadata": {},
   "outputs": [],
   "source": []
  },
  {
   "cell_type": "markdown",
   "id": "2f9b0a6a-4ae5-4080-afeb-723753beb07c",
   "metadata": {},
   "source": [
    "## Practice with recursion"
   ]
  },
  {
   "cell_type": "markdown",
   "id": "02dfb1a7-5f41-474f-9858-0a72dc39ca6e",
   "metadata": {},
   "source": [
    "First we'll create a simplified tweet and reply structure like was demoed in lecture 14, though this time we'll include username information for each tweet."
   ]
  },
  {
   "cell_type": "code",
   "execution_count": null,
   "id": "61d29299-d3c3-4f54-a14a-3a6199b72880",
   "metadata": {},
   "outputs": [],
   "source": [
    "# run this code block\n",
    "tweet_about_exam = {\n",
    "    'text': 'That last exam in sure was hard!',\n",
    "    'username': 'Emma',\n",
    "    'replies':[{\n",
    "        'text': 'It sure was hard, what score did you get? ',\n",
    "        'username': 'Fatima',\n",
    "        'replies': [{\n",
    "            'text': 'I got a 67% :(',\n",
    "            'username': 'Kwesi',\n",
    "            'replies': []\n",
    "        },{\n",
    "            'text': 'I got a 73%',\n",
    "            'username': 'Ying',\n",
    "            'replies': []\n",
    "        }]\n",
    "    }, {\n",
    "        'text': 'I didn\\'t think it was that bad',\n",
    "        'username': 'Maria',\n",
    "        'replies': [{\n",
    "            'text': 'how was that not a super hard exam?',\n",
    "            'username': 'Dmitri',\n",
    "            'replies': []\n",
    "        }, {\n",
    "            'text': 'of course you didn\\'t',\n",
    "            'username': 'Emma',\n",
    "            'replies': [{\n",
    "                'text': 'what\\'s that supposed to mean?',\n",
    "                'username': 'Maria',\n",
    "                'replies': [{\n",
    "                    'text': 'you\\'re an overacheiver',\n",
    "                    'username': 'Emma',\n",
    "                    'replies': [{\n",
    "                        'text': 'and that\\'s bad how?',\n",
    "                        'username': 'Maria',\n",
    "                        'replies': []\n",
    "                    }]\n",
    "                }]\n",
    "            }]\n",
    "        }]\n",
    "    }]\n",
    "}\n",
    "\n",
    "display(tweet_about_exam)"
   ]
  },
  {
   "cell_type": "markdown",
   "id": "087a1fa4-7e57-4b2d-acf4-84e1a537ca48",
   "metadata": {},
   "source": [
    "### This is the code form lecture 14 to print tweets and replies"
   ]
  },
  {
   "cell_type": "code",
   "execution_count": null,
   "id": "278f906e-9abe-4aae-8e11-b85a3d9d82c0",
   "metadata": {},
   "outputs": [],
   "source": [
    "# try running this code block\n",
    "def print_tweet_and_replies(tweet, num_indents=0):\n",
    "    # print indent first\n",
    "    for i in range(num_indents):\n",
    "        print('   ', end='')\n",
    "        \n",
    "    # print tweet\n",
    "    print('-' + tweet['text'])\n",
    "    \n",
    "    #print replies (and the replies of those, etc.)\n",
    "    for reply in tweet['replies']:\n",
    "        print_tweet_and_replies(reply, num_indents = num_indents + 1)\n",
    "\n",
    "print_tweet_and_replies(tweet_about_exam)"
   ]
  },
  {
   "cell_type": "markdown",
   "id": "c3f231cc-e7fc-412c-8eb7-6798aec9671d",
   "metadata": {
    "tags": []
   },
   "source": [
    "#### 7. Your turn: Make a copy of the code above and modify it so it also prints out the username of who made the tweet. Your output should have this exact structure:\n",
    "\n",
    "```\n",
    "\"That last exam in sure was hard!\"\n",
    "        -Emma\n",
    "   \"It sure was hard, what score did you get?\"\n",
    "           -Fatima\n",
    "   ...\n",
    "```"
   ]
  },
  {
   "cell_type": "code",
   "execution_count": null,
   "id": "fd9775ae-ed09-4371-8b28-bf4b43d66a16",
   "metadata": {},
   "outputs": [],
   "source": []
  },
  {
   "cell_type": "markdown",
   "id": "12032a18-e1d3-4cd8-a712-dbdb94876272",
   "metadata": {},
   "source": [
    "#### 8. Now, make a copy of your code from the previous question and modify it to only print out the tweet / username only if the length of the tweet is greater than 25."
   ]
  },
  {
   "cell_type": "code",
   "execution_count": null,
   "id": "efb3b561-5d19-4dac-879e-077b3d71e909",
   "metadata": {},
   "outputs": [],
   "source": []
  }
 ],
 "metadata": {
  "kernelspec": {
   "display_name": "Python 3 (ipykernel)",
   "language": "python",
   "name": "python3"
  },
  "language_info": {
   "codemirror_mode": {
    "name": "ipython",
    "version": 3
   },
   "file_extension": ".py",
   "mimetype": "text/x-python",
   "name": "python",
   "nbconvert_exporter": "python",
   "pygments_lexer": "ipython3",
   "version": "3.10.4"
  }
 },
 "nbformat": 4,
 "nbformat_minor": 5
}
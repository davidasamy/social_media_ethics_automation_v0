{
 "cells": [
  {
   "cell_type": "markdown",
   "id": "d6103326-2c1e-4e0c-9cbc-62b9c3dceb2d",
   "metadata": {},
   "source": [
    "# Practice: Looping through posts and freinds\n",
    "### Looping through lists"
   ]
  },
  {
   "cell_type": "markdown",
   "id": "0a112e0d-cc2a-48ca-a7d5-5f1ae7507e72",
   "metadata": {},
   "source": [
    "There are two main ways to loop through lists.\n",
    "\n",
    "#1) using the values as indexes:\n",
    "\n",
    "```\n",
    "senses = ['touch', 'smell', 'taste']\n",
    "\n",
    "for sense in senses:\n",
    "    print(sense)\n",
    "    \n",
    "    \n",
    "'touch'\n",
    "'smell'\n",
    "'taste'\n",
    "\n",
    "```\n",
    "\n",
    "\n",
    "\n",
    "#2) Accessing values through their associated index:\n",
    "\n",
    "```\n",
    "senses = ['touch', 'smell', 'taste']\n",
    "\n",
    "for i in range(3):\n",
    "    print(senses[i])\n",
    "    \n",
    "    \n",
    "'touch'\n",
    "'smell'\n",
    "'taste'\n",
    "\n",
    "```"
   ]
  },
  {
   "cell_type": "markdown",
   "id": "cc675390-1381-4068-b26f-457c09d07f7a",
   "metadata": {},
   "source": [
    "11. Create a loop. Loop through the list `test_list`. Display the first 5 tweets in the list."
   ]
  },
  {
   "cell_type": "code",
   "execution_count": null,
   "id": "241beed4-97ff-4da2-9d94-18accd4e176a",
   "metadata": {},
   "outputs": [],
   "source": []
  }
 ],
 "metadata": {
  "kernelspec": {
   "display_name": "Python 3 (ipykernel)",
   "language": "python",
   "name": "python3"
  },
  "language_info": {
   "codemirror_mode": {
    "name": "ipython",
    "version": 3
   },
   "file_extension": ".py",
   "mimetype": "text/x-python",
   "name": "python",
   "nbconvert_exporter": "python",
   "pygments_lexer": "ipython3",
   "version": "3.10.4"
  }
 },
 "nbformat": 4,
 "nbformat_minor": 5
}
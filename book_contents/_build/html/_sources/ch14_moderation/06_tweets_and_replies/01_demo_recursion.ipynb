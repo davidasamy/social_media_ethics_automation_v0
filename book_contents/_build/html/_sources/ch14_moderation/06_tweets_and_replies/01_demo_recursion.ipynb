{
 "cells": [
  {
   "cell_type": "markdown",
   "id": "0cd4388e-b71c-4bd1-a60e-d2ef3933f3de",
   "metadata": {},
   "source": [
    "# Demo: recursion (simplified tweet data)"
   ]
  },
  {
   "cell_type": "markdown",
   "id": "c0843095-91de-40b6-9a8b-9f82d0cafeb4",
   "metadata": {},
   "source": []
  },
  {
   "cell_type": "markdown",
   "id": "58f0c993-bce6-43ed-bb8f-cb1771582cd3",
   "metadata": {},
   "source": [
    "## Structure of Tweets & Replies\n",
    "Lets say we want to search through the replies of tweets. Visualized, the structure may look something like this:\n",
    "```\n",
    "                            TWEET #1                         LAYER #1\n",
    "                          /          \\\n",
    "                         /            \\\n",
    "                 TWEET #2           TWEET #3                  LAYER #2\n",
    "               /         \\        /         \\\n",
    "              /           \\      /           \\\n",
    "       TWEET #4     TWEET #5    TWEET #6     TWEET #7         LAYER #3\n",
    "      /       \\     /      \\    /      \\     /      \\\n",
    "     /         \\   /        \\  /        \\   /        \\\n",
    "    \n",
    "    ...                                                     \n",
    "                 \n",
    "```\n",
    "### Breaking it down:\n",
    "- TWEET #1 is the original tweet tweet. It is NOT a reply to any tweet. In programming terms, we call it the \"root.\"\n",
    "- TWEET #2 AND TWEET #3 are both replies to TWEET #1\n",
    "- TWEET #4 AND TWEET #5 are both replies to TWEET #2\n",
    "- TWEET #6 AND TWEET #7 are both replies to TWEET #3\n",
    "- The ellipsis means that there might be an infinite number of layers with replies to tweets & replies to replies\n",
    "\n",
    "\n",
    "The pseudo-code below (not real code to run) shows one way we might try to go through all of the tweets:"
   ]
  },
  {
   "cell_type": "code",
   "execution_count": 1,
   "id": "0217b47c-f3a0-4c6f-b332-5c65f5fa1c3b",
   "metadata": {},
   "outputs": [
    {
     "ename": "SyntaxError",
     "evalue": "invalid syntax (653628361.py, line 9)",
     "output_type": "error",
     "traceback": [
      "\u001b[1;36m  Input \u001b[1;32mIn [1]\u001b[1;36m\u001b[0m\n\u001b[1;33m    etc..........\u001b[0m\n\u001b[1;37m       ^\u001b[0m\n\u001b[1;31mSyntaxError\u001b[0m\u001b[1;31m:\u001b[0m invalid syntax\n"
     ]
    }
   ],
   "source": [
    "# pseudo-code \n",
    "# do not run this code block:\n",
    "\n",
    "for each_reply in TWEET_1:                    # represents going through layer #1\n",
    "    for next_replies1 in each_reply:              # layer #2\n",
    "        for next_replies2 in next_replies1:          # layer #3\n",
    "            for next_replies3 in next_replies2:         # layer 4\n",
    "                for next_replies3 in next_replies2:        \n",
    "                    etc..........\n",
    "                    \n",
    "                    print(The text of the tweet)"
   ]
  },
  {
   "cell_type": "code",
   "execution_count": 4,
   "id": "15042538-7669-4485-8544-3d2d83278bb2",
   "metadata": {},
   "outputs": [
    {
     "data": {
      "text/plain": [
       "{'text': 'That last exam in sure was hard!',\n",
       " 'replies': [{'text': 'It sure was hard, what score did you get? ',\n",
       "   'replies': [{'text': 'I got a 67% :(', 'replies': []},\n",
       "    {'text': 'I got a 73%', 'replies': []}]},\n",
       "  {'text': \"I didn't think it was that bad\",\n",
       "   'replies': [{'text': 'how was that not a super hard exam?', 'replies': []},\n",
       "    {'text': \"of course you didn't\",\n",
       "     'replies': [{'text': \"what's that supposed to mean?\",\n",
       "       'replies': [{'text': \"you're an overacheiver\",\n",
       "         'replies': [{'text': \"and that's bad how?\", 'replies': []}]}]}]}]}]}"
      ]
     },
     "metadata": {},
     "output_type": "display_data"
    }
   ],
   "source": [
    "tweet_about_exam = {\n",
    "    'text': 'That last exam in sure was hard!',\n",
    "    'replies':[{\n",
    "        'text': 'It sure was hard, what score did you get? ',\n",
    "        'replies': [{\n",
    "            'text': 'I got a 67% :(',\n",
    "            'replies': []\n",
    "        },{\n",
    "            'text': 'I got a 73%',\n",
    "            'replies': []\n",
    "        }]\n",
    "    }, {\n",
    "        'text': 'I didn\\'t think it was that bad',\n",
    "        'replies': [{\n",
    "            'text': 'how was that not a super hard exam?',\n",
    "            'replies': []\n",
    "        }, {\n",
    "            'text': 'of course you didn\\'t',\n",
    "            'replies': [{\n",
    "                'text': 'what\\'s that supposed to mean?',\n",
    "                'replies': [{\n",
    "                    'text': 'you\\'re an overacheiver',\n",
    "                    'replies': [{\n",
    "                        'text': 'and that\\'s bad how?',\n",
    "                        'replies': []\n",
    "                    }]\n",
    "                }]\n",
    "            }]\n",
    "        }]\n",
    "    }]\n",
    "}\n",
    "\n",
    "display(tweet_about_exam)"
   ]
  },
  {
   "cell_type": "markdown",
   "id": "2756f1ad-fa84-4396-b122-7423267bf9ed",
   "metadata": {},
   "source": [
    "### Try printing using for loops"
   ]
  },
  {
   "cell_type": "markdown",
   "id": "82879511-cccf-4b8e-87f1-7ecc7d3138a1",
   "metadata": {},
   "source": [
    "#### Just the root tweet"
   ]
  },
  {
   "cell_type": "code",
   "execution_count": 2,
   "id": "740191bd-ec6c-460f-9614-25b5711a963c",
   "metadata": {},
   "outputs": [
    {
     "name": "stdout",
     "output_type": "stream",
     "text": [
      "That last exam in sure was hard!\n"
     ]
    }
   ],
   "source": [
    "print(tweet_about_exam['text'])"
   ]
  },
  {
   "cell_type": "markdown",
   "id": "168737e9-686d-44ed-a737-09141e526a7d",
   "metadata": {},
   "source": [
    "#### The root tweet and replies"
   ]
  },
  {
   "cell_type": "code",
   "execution_count": 4,
   "id": "05ea4c2e-f2d9-49c0-9ffc-21682595e1fe",
   "metadata": {},
   "outputs": [
    {
     "name": "stdout",
     "output_type": "stream",
     "text": [
      "That last exam in sure was hard!\n",
      "  -It sure was hard, what score did you get? \n",
      "  -I didn't think it was that bad\n"
     ]
    }
   ],
   "source": [
    "print(tweet_about_exam['text'])\n",
    "\n",
    "for reply in tweet_about_exam['replies']:\n",
    "    print('  -' + reply['text'])\n"
   ]
  },
  {
   "cell_type": "markdown",
   "id": "5aa5738f-4fbf-4696-a044-c2b37894035e",
   "metadata": {},
   "source": [
    "#### The root tweet and replies and replies to those replies"
   ]
  },
  {
   "cell_type": "code",
   "execution_count": 6,
   "id": "b8253370-c1dd-41fa-9e70-cca4c69be704",
   "metadata": {},
   "outputs": [
    {
     "name": "stdout",
     "output_type": "stream",
     "text": [
      "That last exam in sure was hard!\n",
      "  -It sure was hard, what score did you get? \n",
      "      -I got a 67% :(\n",
      "      -I got a 73%\n",
      "  -I didn't think it was that bad\n",
      "      -how was that not a super hard exam?\n",
      "      -of course you didn't\n"
     ]
    }
   ],
   "source": [
    "print(tweet_about_exam['text'])\n",
    "\n",
    "for reply in tweet_about_exam['replies']:\n",
    "    print('  -' + reply['text'])\n",
    "    \n",
    "    for reply_reply in reply['replies']:\n",
    "        print('      -' + reply_reply['text'])"
   ]
  },
  {
   "cell_type": "markdown",
   "id": "7b0df479-6097-4c25-83b5-e91d74649df6",
   "metadata": {},
   "source": [
    "### for loops didn't work great\n",
    "We still didn't get all the replies. For every level of replies we need another for loop. This could go on endlessly."
   ]
  },
  {
   "cell_type": "markdown",
   "id": "b82990b4-e510-42e6-97b9-aad3daa78caa",
   "metadata": {},
   "source": [
    "### Now use recursion: a function that calls itself\n",
    "We make a function `print_tweet_and_replies` that prints a tweet and all its replies.\n",
    "\n",
    "The way it does this is it prints the 'text' of a tweet and then for each reply it uses the `print_tweet_and_replies` to print that tweet and all its replies."
   ]
  },
  {
   "cell_type": "code",
   "execution_count": 7,
   "id": "2b8f6de2-6423-4906-865e-153d28230264",
   "metadata": {},
   "outputs": [
    {
     "name": "stdout",
     "output_type": "stream",
     "text": [
      "That last exam in sure was hard!\n",
      "It sure was hard, what score did you get? \n",
      "I got a 67% :(\n",
      "I got a 73%\n",
      "I didn't think it was that bad\n",
      "how was that not a super hard exam?\n",
      "of course you didn't\n",
      "what's that supposed to mean?\n",
      "you're an overacheiver\n",
      "and that's bad how?\n"
     ]
    }
   ],
   "source": [
    "def print_tweet_and_replies(tweet):\n",
    "    # print tweet\n",
    "    print(tweet['text'])\n",
    "    \n",
    "    #print replies (and the replies of those, etc.)\n",
    "    for reply in tweet['replies']:\n",
    "        print_tweet_and_replies(reply)\n",
    "\n",
    "print_tweet_and_replies(tweet_about_exam)"
   ]
  },
  {
   "cell_type": "markdown",
   "id": "b0c5de55-075a-42c6-af6e-8c0e1c781590",
   "metadata": {},
   "source": [
    "### Modify the function to add indents for replies"
   ]
  },
  {
   "cell_type": "code",
   "execution_count": 8,
   "id": "1c22b0d6-50ea-436f-b101-527b2f58f8ce",
   "metadata": {},
   "outputs": [
    {
     "name": "stdout",
     "output_type": "stream",
     "text": [
      "-That last exam in sure was hard!\n",
      "   -It sure was hard, what score did you get? \n",
      "      -I got a 67% :(\n",
      "      -I got a 73%\n",
      "   -I didn't think it was that bad\n",
      "      -how was that not a super hard exam?\n",
      "      -of course you didn't\n",
      "         -what's that supposed to mean?\n",
      "            -you're an overacheiver\n",
      "               -and that's bad how?\n"
     ]
    }
   ],
   "source": [
    "def print_tweet_and_replies(tweet, num_indents=0):\n",
    "    # print indent first\n",
    "    for i in range(num_indents):\n",
    "        print('   ', end='')\n",
    "        \n",
    "    # print tweet\n",
    "    print('-' + tweet['text'])\n",
    "    \n",
    "    #print replies (and the replies of those, etc.)\n",
    "    for reply in tweet['replies']:\n",
    "        print_tweet_and_replies(reply, num_indents = num_indents + 1)\n",
    "\n",
    "print_tweet_and_replies(tweet_about_exam)"
   ]
  },
  {
   "cell_type": "markdown",
   "id": "fa3522e3-f239-4a93-a18b-377e6d7a09d8",
   "metadata": {},
   "source": [
    "### What you say in computer science terms, was a \"depth-first-search\" on a \"tree\" data structure"
   ]
  },
  {
   "cell_type": "code",
   "execution_count": 5,
   "id": "dd61ef49-14a3-43c6-8dc1-c4dfa6811af8",
   "metadata": {},
   "outputs": [],
   "source": [
    "from IPython.display import HTML, Image, display\n",
    "import html\n",
    "def display_indented(text, left_margin=0):\n",
    "    display(\n",
    "        HTML(\n",
    "            \"<pre style='border:solid 1px;padding:3px;margin-left:\"+ str(left_margin) + \"px'>\" + \n",
    "            html.escape(text) + \n",
    "            \"</pre>\"\n",
    "        )\n",
    "    )"
   ]
  },
  {
   "cell_type": "code",
   "execution_count": 11,
   "id": "23985816-a951-4810-b77e-9cd80306103d",
   "metadata": {},
   "outputs": [
    {
     "data": {
      "text/html": [
       "<pre style='border:solid 1px;padding:3px;margin-left:0px'>That last exam in sure was hard!</pre>"
      ],
      "text/plain": [
       "<IPython.core.display.HTML object>"
      ]
     },
     "metadata": {},
     "output_type": "display_data"
    },
    {
     "data": {
      "text/html": [
       "<pre style='border:solid 1px;padding:3px;margin-left:30px'>It sure was hard, what score did you get? </pre>"
      ],
      "text/plain": [
       "<IPython.core.display.HTML object>"
      ]
     },
     "metadata": {},
     "output_type": "display_data"
    },
    {
     "data": {
      "text/html": [
       "<pre style='border:solid 1px;padding:3px;margin-left:60px'>I got a 67% :(</pre>"
      ],
      "text/plain": [
       "<IPython.core.display.HTML object>"
      ]
     },
     "metadata": {},
     "output_type": "display_data"
    },
    {
     "data": {
      "text/html": [
       "<pre style='border:solid 1px;padding:3px;margin-left:60px'>I got a 73%</pre>"
      ],
      "text/plain": [
       "<IPython.core.display.HTML object>"
      ]
     },
     "metadata": {},
     "output_type": "display_data"
    },
    {
     "data": {
      "text/html": [
       "<pre style='border:solid 1px;padding:3px;margin-left:30px'>I didn&#x27;t think it was that bad</pre>"
      ],
      "text/plain": [
       "<IPython.core.display.HTML object>"
      ]
     },
     "metadata": {},
     "output_type": "display_data"
    },
    {
     "data": {
      "text/html": [
       "<pre style='border:solid 1px;padding:3px;margin-left:60px'>how was that not a super hard exam?</pre>"
      ],
      "text/plain": [
       "<IPython.core.display.HTML object>"
      ]
     },
     "metadata": {},
     "output_type": "display_data"
    },
    {
     "data": {
      "text/html": [
       "<pre style='border:solid 1px;padding:3px;margin-left:60px'>of course you didn&#x27;t</pre>"
      ],
      "text/plain": [
       "<IPython.core.display.HTML object>"
      ]
     },
     "metadata": {},
     "output_type": "display_data"
    },
    {
     "data": {
      "text/html": [
       "<pre style='border:solid 1px;padding:3px;margin-left:90px'>what&#x27;s that supposed to mean?</pre>"
      ],
      "text/plain": [
       "<IPython.core.display.HTML object>"
      ]
     },
     "metadata": {},
     "output_type": "display_data"
    },
    {
     "data": {
      "text/html": [
       "<pre style='border:solid 1px;padding:3px;margin-left:120px'>you&#x27;re an overacheiver</pre>"
      ],
      "text/plain": [
       "<IPython.core.display.HTML object>"
      ]
     },
     "metadata": {},
     "output_type": "display_data"
    },
    {
     "data": {
      "text/html": [
       "<pre style='border:solid 1px;padding:3px;margin-left:150px'>and that&#x27;s bad how?</pre>"
      ],
      "text/plain": [
       "<IPython.core.display.HTML object>"
      ]
     },
     "metadata": {},
     "output_type": "display_data"
    }
   ],
   "source": [
    "def print_tweet_and_replies(tweet, num_indents=0):\n",
    "    display_indented(tweet['text'], num_indents*30)\n",
    "\n",
    "    #print replies (and the replies of those, etc.)\n",
    "    for reply in tweet['replies']:\n",
    "        print_tweet_and_replies(reply, num_indents = num_indents + 1)\n",
    "\n",
    "print_tweet_and_replies(tweet_about_exam)"
   ]
  },
  {
   "cell_type": "code",
   "execution_count": null,
   "id": "3968f362-671c-4932-acb0-d148ee9e8b18",
   "metadata": {},
   "outputs": [],
   "source": []
  },
  {
   "cell_type": "code",
   "execution_count": null,
   "id": "b90fded9-135e-4bb8-b456-9cb879eb7692",
   "metadata": {},
   "outputs": [],
   "source": []
  }
 ],
 "metadata": {
  "kernelspec": {
   "display_name": "Python 3 (ipykernel)",
   "language": "python",
   "name": "python3"
  },
  "language_info": {
   "codemirror_mode": {
    "name": "ipython",
    "version": 3
   },
   "file_extension": ".py",
   "mimetype": "text/x-python",
   "name": "python",
   "nbconvert_exporter": "python",
   "pygments_lexer": "ipython3",
   "version": "3.10.4"
  }
 },
 "nbformat": 4,
 "nbformat_minor": 5
}
